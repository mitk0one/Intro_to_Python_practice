{
 "cells": [
  {
   "cell_type": "markdown",
   "id": "1ff625f0",
   "metadata": {},
   "source": [
    "**Goal of the project:** Predict the top 7 out of 24 products which will be bought by the customers of Santander bank in June 2016 \n"
   ]
  },
  {
   "cell_type": "markdown",
   "id": "9bbae7a3",
   "metadata": {},
   "source": [
    "# Load the data"
   ]
  },
  {
   "cell_type": "code",
   "execution_count": 1,
   "id": "1ba64c2b",
   "metadata": {
    "ExecuteTime": {
     "end_time": "2021-09-05T11:10:15.965594Z",
     "start_time": "2021-09-05T11:10:15.302910Z"
    }
   },
   "outputs": [
    {
     "name": "stdout",
     "output_type": "stream",
     "text": [
      "Populating the interactive namespace from numpy and matplotlib\n"
     ]
    }
   ],
   "source": [
    "import pandas as pd\n",
    "import numpy as np\n",
    "import seaborn as sns\n",
    "import matplotlib.pyplot as plt\n",
    "%pylab inline\n",
    "# pylab.rcParams['figure.figsize'] = (10, 6)\n",
    "\n",
    "\n",
    "\n",
    "pd.set_option(\"display.max_columns\", 90)\n",
    "pd.set_option(\"display.max_rows\", 1500)\n",
    "pd.set_option(\"display.max_colwidth\", None)"
   ]
  },
  {
   "cell_type": "code",
   "execution_count": 2,
   "id": "1ced3e77",
   "metadata": {
    "ExecuteTime": {
     "end_time": "2021-09-05T11:10:15.980935Z",
     "start_time": "2021-09-05T11:10:15.966596Z"
    }
   },
   "outputs": [],
   "source": [
    "file_path = r'C:\\Users\\Mitko\\Desktop\\Machine Learning Practice\\Summer School 2021\\santander-product-recommendation\\train_ver2.csv'"
   ]
  },
  {
   "cell_type": "code",
   "execution_count": 3,
   "id": "3bc43f22",
   "metadata": {
    "ExecuteTime": {
     "end_time": "2021-09-05T11:10:50.217221Z",
     "start_time": "2021-09-05T11:10:15.981935Z"
    }
   },
   "outputs": [],
   "source": [
    "df = pd.read_csv(file_path, dtype={\"sexo\":str,\n",
    "                                                    \"ind_nuevo\":str,\n",
    "                                                    \"ult_fec_cli_1t\":str,\n",
    "                                                    \"indext\":str},\n",
    "                low_memory=False)"
   ]
  },
  {
   "cell_type": "markdown",
   "id": "74373b63",
   "metadata": {},
   "source": [
    "Checking each column if there are missing values:"
   ]
  },
  {
   "cell_type": "code",
   "execution_count": 4,
   "id": "022de257",
   "metadata": {
    "ExecuteTime": {
     "end_time": "2021-09-05T11:10:53.266445Z",
     "start_time": "2021-09-05T11:10:50.219225Z"
    }
   },
   "outputs": [
    {
     "data": {
      "text/plain": [
       "array(['2015-01-28T00:00:00.000000000', '2015-02-28T00:00:00.000000000',\n",
       "       '2015-03-28T00:00:00.000000000', '2015-04-28T00:00:00.000000000',\n",
       "       '2015-05-28T00:00:00.000000000', '2015-06-28T00:00:00.000000000',\n",
       "       '2015-07-28T00:00:00.000000000', '2015-08-28T00:00:00.000000000',\n",
       "       '2015-09-28T00:00:00.000000000', '2015-10-28T00:00:00.000000000',\n",
       "       '2015-11-28T00:00:00.000000000', '2015-12-28T00:00:00.000000000',\n",
       "       '2016-01-28T00:00:00.000000000', '2016-02-28T00:00:00.000000000',\n",
       "       '2016-03-28T00:00:00.000000000', '2016-04-28T00:00:00.000000000',\n",
       "       '2016-05-28T00:00:00.000000000'], dtype='datetime64[ns]')"
      ]
     },
     "execution_count": 4,
     "metadata": {},
     "output_type": "execute_result"
    }
   ],
   "source": [
    "# change fecha_dato and fecha_alta dtype to datetime\n",
    "# fecha_dato - row identifier date\n",
    "# fecha_alta - date when the customer joined\n",
    "df[\"fecha_dato\"] = pd.to_datetime(df[\"fecha_dato\"],format=\"%Y-%m-%d\")\n",
    "df[\"fecha_alta\"] = pd.to_datetime(df[\"fecha_alta\"],format=\"%Y-%m-%d\")\n",
    "df[\"fecha_dato\"].unique()"
   ]
  },
  {
   "cell_type": "code",
   "execution_count": null,
   "id": "d970b682",
   "metadata": {},
   "outputs": [],
   "source": []
  },
  {
   "cell_type": "code",
   "execution_count": null,
   "id": "a5e25c69",
   "metadata": {},
   "outputs": [],
   "source": []
  },
  {
   "cell_type": "markdown",
   "id": "37ce5796",
   "metadata": {},
   "source": [
    "Checking each column if there are missing values:"
   ]
  },
  {
   "cell_type": "code",
   "execution_count": 5,
   "id": "52aa797c",
   "metadata": {
    "ExecuteTime": {
     "end_time": "2021-09-05T11:10:59.068252Z",
     "start_time": "2021-09-05T11:10:53.268445Z"
    },
    "scrolled": true
   },
   "outputs": [
    {
     "name": "stdout",
     "output_type": "stream",
     "text": [
      "<class 'pandas.core.frame.DataFrame'>\n",
      "RangeIndex: 13647309 entries, 0 to 13647308\n",
      "Data columns (total 48 columns):\n",
      " #   Column                 Non-Null Count     Dtype         \n",
      "---  ------                 --------------     -----         \n",
      " 0   fecha_dato             13647309 non-null  datetime64[ns]\n",
      " 1   ncodpers               13647309 non-null  int64         \n",
      " 2   ind_empleado           13619575 non-null  object        \n",
      " 3   pais_residencia        13619575 non-null  object        \n",
      " 4   sexo                   13619505 non-null  object        \n",
      " 5   age                    13647309 non-null  object        \n",
      " 6   fecha_alta             13619575 non-null  datetime64[ns]\n",
      " 7   ind_nuevo              13619575 non-null  object        \n",
      " 8   antiguedad             13647309 non-null  object        \n",
      " 9   indrel                 13619575 non-null  float64       \n",
      " 10  ult_fec_cli_1t         24793 non-null     object        \n",
      " 11  indrel_1mes            13497528 non-null  object        \n",
      " 12  tiprel_1mes            13497528 non-null  object        \n",
      " 13  indresi                13619575 non-null  object        \n",
      " 14  indext                 13619575 non-null  object        \n",
      " 15  conyuemp               1808 non-null      object        \n",
      " 16  canal_entrada          13461183 non-null  object        \n",
      " 17  indfall                13619575 non-null  object        \n",
      " 18  tipodom                13619574 non-null  float64       \n",
      " 19  cod_prov               13553718 non-null  float64       \n",
      " 20  nomprov                13553718 non-null  object        \n",
      " 21  ind_actividad_cliente  13619575 non-null  float64       \n",
      " 22  renta                  10852934 non-null  float64       \n",
      " 23  segmento               13457941 non-null  object        \n",
      " 24  ind_ahor_fin_ult1      13647309 non-null  int64         \n",
      " 25  ind_aval_fin_ult1      13647309 non-null  int64         \n",
      " 26  ind_cco_fin_ult1       13647309 non-null  int64         \n",
      " 27  ind_cder_fin_ult1      13647309 non-null  int64         \n",
      " 28  ind_cno_fin_ult1       13647309 non-null  int64         \n",
      " 29  ind_ctju_fin_ult1      13647309 non-null  int64         \n",
      " 30  ind_ctma_fin_ult1      13647309 non-null  int64         \n",
      " 31  ind_ctop_fin_ult1      13647309 non-null  int64         \n",
      " 32  ind_ctpp_fin_ult1      13647309 non-null  int64         \n",
      " 33  ind_deco_fin_ult1      13647309 non-null  int64         \n",
      " 34  ind_deme_fin_ult1      13647309 non-null  int64         \n",
      " 35  ind_dela_fin_ult1      13647309 non-null  int64         \n",
      " 36  ind_ecue_fin_ult1      13647309 non-null  int64         \n",
      " 37  ind_fond_fin_ult1      13647309 non-null  int64         \n",
      " 38  ind_hip_fin_ult1       13647309 non-null  int64         \n",
      " 39  ind_plan_fin_ult1      13647309 non-null  int64         \n",
      " 40  ind_pres_fin_ult1      13647309 non-null  int64         \n",
      " 41  ind_reca_fin_ult1      13647309 non-null  int64         \n",
      " 42  ind_tjcr_fin_ult1      13647309 non-null  int64         \n",
      " 43  ind_valo_fin_ult1      13647309 non-null  int64         \n",
      " 44  ind_viv_fin_ult1       13647309 non-null  int64         \n",
      " 45  ind_nomina_ult1        13631246 non-null  float64       \n",
      " 46  ind_nom_pens_ult1      13631246 non-null  float64       \n",
      " 47  ind_recibo_ult1        13647309 non-null  int64         \n",
      "dtypes: datetime64[ns](2), float64(7), int64(23), object(16)\n",
      "memory usage: 4.9+ GB\n"
     ]
    }
   ],
   "source": [
    "df.info(show_counts=True)"
   ]
  },
  {
   "cell_type": "markdown",
   "id": "c8e883c0",
   "metadata": {},
   "source": [
    "Clearly there is"
   ]
  },
  {
   "cell_type": "markdown",
   "id": "53c213fc",
   "metadata": {},
   "source": [
    "The data for each client has two main parts:\n",
    "- First part is the demographics (age, sex etc.) and \n",
    "- the second part is the products owned (last 24 cols or all columns containing **\"ind_\"** ). \n",
    "\n",
    "\n",
    "Clearly, there are a lot of columns with missing data, so.. before creating a train and test sets for modelling, first we need to do some **Data Cleaning and Feature Engineering**"
   ]
  },
  {
   "cell_type": "code",
   "execution_count": 6,
   "id": "924f813c",
   "metadata": {
    "ExecuteTime": {
     "end_time": "2021-09-05T07:00:12.758705Z",
     "start_time": "2021-09-05T07:00:08.264426Z"
    }
   },
   "outputs": [],
   "source": [
    "# for now the fecha_alto (or the date customer joined will be ignored as it's not viewed as significant information)\n",
    "\n",
    "df[\"month\"] = pd.DatetimeIndex(df[\"fecha_dato\"]).month\n",
    "df[\"age\"] = pd.to_numeric(df[\"age\"], errors=\"coerce\")"
   ]
  },
  {
   "cell_type": "markdown",
   "id": "160e0e37",
   "metadata": {},
   "source": [
    "Now Lets check which columns in the data have missing values:"
   ]
  },
  {
   "cell_type": "code",
   "execution_count": 6,
   "id": "35940c8a",
   "metadata": {
    "ExecuteTime": {
     "end_time": "2021-09-05T11:11:04.065276Z",
     "start_time": "2021-09-05T11:10:59.069252Z"
    }
   },
   "outputs": [
    {
     "data": {
      "text/plain": [
       "22"
      ]
     },
     "execution_count": 6,
     "metadata": {},
     "output_type": "execute_result"
    }
   ],
   "source": [
    "# checking if there are columns containing missing values\n",
    "df.isnull().any(axis=0).sum()"
   ]
  },
  {
   "cell_type": "code",
   "execution_count": 5,
   "id": "bd48263a",
   "metadata": {
    "ExecuteTime": {
     "end_time": "2021-09-05T07:00:08.262413Z",
     "start_time": "2021-09-05T07:00:05.365231Z"
    }
   },
   "outputs": [
    {
     "data": {
      "text/plain": [
       "array(['2015-01-28T00:00:00.000000000', '2015-02-28T00:00:00.000000000',\n",
       "       '2015-03-28T00:00:00.000000000', '2015-04-28T00:00:00.000000000',\n",
       "       '2015-05-28T00:00:00.000000000', '2015-06-28T00:00:00.000000000',\n",
       "       '2015-07-28T00:00:00.000000000', '2015-08-28T00:00:00.000000000',\n",
       "       '2015-09-28T00:00:00.000000000', '2015-10-28T00:00:00.000000000',\n",
       "       '2015-11-28T00:00:00.000000000', '2015-12-28T00:00:00.000000000',\n",
       "       '2016-01-28T00:00:00.000000000', '2016-02-28T00:00:00.000000000',\n",
       "       '2016-03-28T00:00:00.000000000', '2016-04-28T00:00:00.000000000',\n",
       "       '2016-05-28T00:00:00.000000000'], dtype='datetime64[ns]')"
      ]
     },
     "execution_count": 5,
     "metadata": {},
     "output_type": "execute_result"
    }
   ],
   "source": [
    "# change fecha_dato and fecha_alta dtype to datetime\n",
    "# fecha_dato - row identifier date\n",
    "# fecha_alta - date when the customer joined\n",
    "df[\"fecha_dato\"] = pd.to_datetime(df[\"fecha_dato\"],format=\"%Y-%m-%d\")\n",
    "df[\"fecha_alta\"] = pd.to_datetime(df[\"fecha_alta\"],format=\"%Y-%m-%d\")\n",
    "df[\"fecha_dato\"].unique()"
   ]
  },
  {
   "cell_type": "markdown",
   "id": "a7d37f26",
   "metadata": {},
   "source": [
    "# Data Cleaning"
   ]
  },
  {
   "cell_type": "markdown",
   "id": "4cc2a2c1",
   "metadata": {},
   "source": [
    "Let's start checking the age distribution:"
   ]
  },
  {
   "cell_type": "code",
   "execution_count": null,
   "id": "272908e8",
   "metadata": {},
   "outputs": [],
   "source": []
  },
  {
   "cell_type": "code",
   "execution_count": 8,
   "id": "db96958c",
   "metadata": {
    "ExecuteTime": {
     "end_time": "2021-09-05T11:13:20.743080Z",
     "start_time": "2021-09-05T11:13:16.083435Z"
    }
   },
   "outputs": [],
   "source": [
    "# for now the fecha_alto (or the date customer joined will be ignored as it's not viewed as significant information)\n",
    "\n",
    "df[\"month\"] = pd.DatetimeIndex(df[\"fecha_dato\"]).month\n",
    "df[\"age\"] = pd.to_numeric(df[\"age\"], errors=\"coerce\")"
   ]
  },
  {
   "cell_type": "code",
   "execution_count": 9,
   "id": "e53579d3",
   "metadata": {
    "ExecuteTime": {
     "end_time": "2021-09-05T11:13:22.110760Z",
     "start_time": "2021-09-05T11:13:21.722674Z"
    },
    "scrolled": true
   },
   "outputs": [
    {
     "data": {
      "image/png": "[encoded data removed]",
      "text/plain": [
       "<Figure size 1080x360 with 1 Axes>"
      ]
     },
     "metadata": {},
     "output_type": "display_data"
    }
   ],
   "source": [
    "# with sns.plotting_context(\"notebook\",font_scale=1.2):\n",
    "# sns.set(rc={'figure.figsize':(5, 20)})\n",
    "\n",
    "plt.figure(figsize=(15, 5))\n",
    "# sns.set_hls_values\n",
    "sns.set_style(\"whitegrid\")\n",
    "plt.hist(df[\"age\"].dropna(),\n",
    "             bins=80,\n",
    "             color=\"tomato\")\n",
    "\n",
    "\n",
    "\n",
    "plt.title(\"Age Distribution\")\n",
    "plt.ylabel(\"Count\")\n",
    "plt.show()"
   ]
  },
  {
   "cell_type": "code",
   "execution_count": 11,
   "id": "416a4949",
   "metadata": {
    "ExecuteTime": {
     "end_time": "2021-09-05T11:14:45.049353Z",
     "start_time": "2021-09-05T11:14:44.922315Z"
    }
   },
   "outputs": [
    {
     "data": {
      "text/plain": [
       "array([ 35.,  23.,  22.,  24.,  65.,  28.,  25.,  26.,  53.,  27.,  32.,\n",
       "        37.,  31.,  39.,  63.,  33.,  55.,  42.,  58.,  38.,  50.,  30.,\n",
       "        45.,  44.,  36.,  29.,  60.,  57.,  67.,  47.,  nan,  34.,  48.,\n",
       "        46.,  54.,  84.,  15.,  12.,   8.,   6.,  83.,  40.,  77.,  69.,\n",
       "        52.,  59.,  43.,  10.,   9.,  49.,  41.,  51.,  78.,  16.,  11.,\n",
       "        73.,  62.,  66.,  17.,  68.,  82.,  95.,  96.,  56.,  61.,  79.,\n",
       "        72.,  14.,  19.,  13.,  86.,  64.,  20.,  89.,  71.,   7.,  70.,\n",
       "        74.,  21.,  18.,  75.,   4.,  80.,  81.,   5.,  76.,  92.,  93.,\n",
       "        85.,  91.,  87.,  90.,  94.,  99.,  98.,  88.,  97., 100., 101.,\n",
       "       106., 103.,   3.,   2., 102., 104., 111., 107., 109., 105., 112.,\n",
       "       115., 110., 116., 108., 113., 126., 117., 163., 127., 114., 164.])"
      ]
     },
     "execution_count": 11,
     "metadata": {},
     "output_type": "execute_result"
    }
   ],
   "source": [
    "df[\"age\"].unique()"
   ]
  },
  {
   "cell_type": "markdown",
   "id": "ccd85d76",
   "metadata": {},
   "source": [
    "Hmm, seems like there are some strange values. For example: there are people with age above 110 years old.. there are even people with age equaling 164. On the other hand there are also clients who are 2,3 or 6 years old.. something which seems unusual. Therefore we're going to treat these values as outliers and clean them up.\n",
    "\n",
    "- Let's check some statistics\n",
    "\n"
   ]
  },
  {
   "cell_type": "code",
   "execution_count": 23,
   "id": "b2bc57a2",
   "metadata": {
    "ExecuteTime": {
     "end_time": "2021-09-05T11:23:52.059511Z",
     "start_time": "2021-09-05T11:23:52.037507Z"
    }
   },
   "outputs": [
    {
     "name": "stdout",
     "output_type": "stream",
     "text": [
      "Average age of clients: 40\n"
     ]
    }
   ],
   "source": [
    "print(f\"Average age of clients: {int(df.age.mean())}\")"
   ]
  },
  {
   "cell_type": "code",
   "execution_count": 24,
   "id": "786e4bbf",
   "metadata": {
    "ExecuteTime": {
     "end_time": "2021-09-05T11:24:57.735155Z",
     "start_time": "2021-09-05T11:24:57.649184Z"
    }
   },
   "outputs": [
    {
     "name": "stdout",
     "output_type": "stream",
     "text": [
      "Total num of clients with age < 18: 118796\n",
      "Total num of clients: 13619575\n",
      "Percentage of clients with age 18 or less: 0.87 %\n"
     ]
    }
   ],
   "source": [
    "# people below 18 years of age (as %)\n",
    "age_less_18 = df[\"age\"].loc[df[\"age\"] < 18].count() / df[\"age\"].count() * 100\n",
    "\n",
    "print(f'Total num of clients with age < 18: {df[\"age\"].loc[df[\"age\"] < 18].count()}')\n",
    "print(f'Total num of clients: {df[\"age\"].count()}')\n",
    "print(f'Percentage of clients with age 18 or less: {round(age_less_18, 2)} %')"
   ]
  },
  {
   "cell_type": "code",
   "execution_count": 26,
   "id": "5d107b6a",
   "metadata": {
    "ExecuteTime": {
     "end_time": "2021-09-05T11:25:39.671587Z",
     "start_time": "2021-09-05T11:25:39.596391Z"
    }
   },
   "outputs": [
    {
     "name": "stdout",
     "output_type": "stream",
     "text": [
      "Total num of clients with age > 100: 12869\n",
      "Total num of clients: 13619575\n",
      "Percentage of clients with age 100 or more: 0.09 %\n"
     ]
    }
   ],
   "source": [
    "# people below 18 years of age (as %)\n",
    "age_more_100 = df[\"age\"].loc[df[\"age\"] > 100].count() / df[\"age\"].count() * 100\n",
    "\n",
    "print(f'Total num of clients with age > 100: {df[\"age\"].loc[df[\"age\"] > 100].count()}')\n",
    "print(f'Total num of clients: {df[\"age\"].count()}')\n",
    "print(f'Percentage of clients with age 100 or more: {round(age_more_100, 2)} %')"
   ]
  },
  {
   "cell_type": "markdown",
   "id": "394dfa26",
   "metadata": {},
   "source": [
    "There are different possible approaches how to handle these outliers.\n",
    "\n",
    "The distrubition graph above shows a bimodal distribution where there are two main groups of clients: \n",
    "- People in \"students\" age (between 18 and 30 years old) and \n",
    "- Middle aged group (between 30 and 60 years old)\n",
    "\n",
    "One approach to handle the outliers is to take the people who are 18 years old or less and change their age value to the mean of the first group (between 18 and 30 years of age). Then the same could be done with the people above a 100, who will be allocated to the middle aged group (between 30 and 60 years of age)\n",
    "\n",
    "**Second approach (the chosen one)** - simply ignore these instances (since they represent below 1% of the total dataset)"
   ]
  },
  {
   "cell_type": "code",
   "execution_count": 27,
   "id": "269b7e0d",
   "metadata": {
    "ExecuteTime": {
     "end_time": "2021-09-05T11:27:32.359800Z",
     "start_time": "2021-09-05T11:27:32.203123Z"
    }
   },
   "outputs": [],
   "source": [
    "# Second approach is chosen\n",
    "age_mask = df[\"age\"].loc[(df[\"age\"] > 18) &\n",
    "             (df[\"age\"] < 100)].index"
   ]
  },
  {
   "cell_type": "code",
   "execution_count": 28,
   "id": "021d9bc7",
   "metadata": {
    "ExecuteTime": {
     "end_time": "2021-09-05T11:27:37.844814Z",
     "start_time": "2021-09-05T11:27:33.712936Z"
    }
   },
   "outputs": [],
   "source": [
    "df = df.iloc[age_mask, :]"
   ]
  },
  {
   "cell_type": "code",
   "execution_count": 29,
   "id": "1fee690b",
   "metadata": {
    "ExecuteTime": {
     "end_time": "2021-09-05T11:27:38.783785Z",
     "start_time": "2021-09-05T11:27:38.763761Z"
    }
   },
   "outputs": [],
   "source": [
    "del  age_mask, age_less_18, age_more_100"
   ]
  },
  {
   "cell_type": "code",
   "execution_count": 30,
   "id": "3157432d",
   "metadata": {
    "ExecuteTime": {
     "end_time": "2021-09-05T11:27:39.567024Z",
     "start_time": "2021-09-05T11:27:39.551509Z"
    }
   },
   "outputs": [
    {
     "data": {
      "text/plain": [
       "(13473871, 49)"
      ]
     },
     "execution_count": 30,
     "metadata": {},
     "output_type": "execute_result"
    }
   ],
   "source": [
    "df.shape"
   ]
  },
  {
   "cell_type": "markdown",
   "id": "ef9d32c7",
   "metadata": {},
   "source": [
    "On to the next columns:\n",
    "\n",
    "- **\"tipodom\"** (*Address type1*) and **\"cod_prov\"** (*Province code*)  don't seem to be useful since we have the name in the province in **\"nomprov\"** so we're going to delete those features"
   ]
  },
  {
   "cell_type": "code",
   "execution_count": 31,
   "id": "e0862b74",
   "metadata": {
    "ExecuteTime": {
     "end_time": "2021-09-05T11:29:14.649123Z",
     "start_time": "2021-09-05T11:29:12.496909Z"
    }
   },
   "outputs": [
    {
     "name": "stderr",
     "output_type": "stream",
     "text": [
      "C:\\Users\\Mitko\\.conda\\envs\\py39\\lib\\site-packages\\pandas\\core\\frame.py:4901: SettingWithCopyWarning: \n",
      "A value is trying to be set on a copy of a slice from a DataFrame\n",
      "\n",
      "See the caveats in the documentation: https://pandas.pydata.org/pandas-docs/stable/user_guide/indexing.html#returning-a-view-versus-a-copy\n",
      "  return super().drop(\n"
     ]
    }
   ],
   "source": [
    "df.drop([\"tipodom\",\"cod_prov\"],axis=1,inplace=True)"
   ]
  },
  {
   "cell_type": "code",
   "execution_count": 34,
   "id": "5a293761",
   "metadata": {
    "ExecuteTime": {
     "end_time": "2021-09-05T11:31:06.781905Z",
     "start_time": "2021-09-05T11:31:01.428664Z"
    }
   },
   "outputs": [
    {
     "name": "stdout",
     "output_type": "stream",
     "text": [
      "<class 'pandas.core.frame.DataFrame'>\n",
      "Int64Index: 13473871 entries, 0 to 13647308\n",
      "Data columns (total 47 columns):\n",
      " #   Column                 Non-Null Count     Dtype         \n",
      "---  ------                 --------------     -----         \n",
      " 0   fecha_dato             13473871 non-null  datetime64[ns]\n",
      " 1   ncodpers               13473871 non-null  int64         \n",
      " 2   ind_empleado           13473871 non-null  object        \n",
      " 3   pais_residencia        13473871 non-null  object        \n",
      " 4   sexo                   13473818 non-null  object        \n",
      " 5   age                    13473871 non-null  float64       \n",
      " 6   fecha_alta             13473871 non-null  datetime64[ns]\n",
      " 7   ind_nuevo              13473871 non-null  object        \n",
      " 8   antiguedad             13473871 non-null  object        \n",
      " 9   indrel                 13473871 non-null  float64       \n",
      " 10  ult_fec_cli_1t         24568 non-null     object        \n",
      " 11  indrel_1mes            13352618 non-null  object        \n",
      " 12  tiprel_1mes            13352618 non-null  object        \n",
      " 13  indresi                13473871 non-null  object        \n",
      " 14  indext                 13473871 non-null  object        \n",
      " 15  conyuemp               1808 non-null      object        \n",
      " 16  canal_entrada          13316800 non-null  object        \n",
      " 17  indfall                13473871 non-null  object        \n",
      " 18  nomprov                13408056 non-null  object        \n",
      " 19  ind_actividad_cliente  13473871 non-null  float64       \n",
      " 20  renta                  10727955 non-null  float64       \n",
      " 21  segmento               13313590 non-null  object        \n",
      " 22  ind_ahor_fin_ult1      13473871 non-null  int64         \n",
      " 23  ind_aval_fin_ult1      13473871 non-null  int64         \n",
      " 24  ind_cco_fin_ult1       13473871 non-null  int64         \n",
      " 25  ind_cder_fin_ult1      13473871 non-null  int64         \n",
      " 26  ind_cno_fin_ult1       13473871 non-null  int64         \n",
      " 27  ind_ctju_fin_ult1      13473871 non-null  int64         \n",
      " 28  ind_ctma_fin_ult1      13473871 non-null  int64         \n",
      " 29  ind_ctop_fin_ult1      13473871 non-null  int64         \n",
      " 30  ind_ctpp_fin_ult1      13473871 non-null  int64         \n",
      " 31  ind_deco_fin_ult1      13473871 non-null  int64         \n",
      " 32  ind_deme_fin_ult1      13473871 non-null  int64         \n",
      " 33  ind_dela_fin_ult1      13473871 non-null  int64         \n",
      " 34  ind_ecue_fin_ult1      13473871 non-null  int64         \n",
      " 35  ind_fond_fin_ult1      13473871 non-null  int64         \n",
      " 36  ind_hip_fin_ult1       13473871 non-null  int64         \n",
      " 37  ind_plan_fin_ult1      13473871 non-null  int64         \n",
      " 38  ind_pres_fin_ult1      13473871 non-null  int64         \n",
      " 39  ind_reca_fin_ult1      13473871 non-null  int64         \n",
      " 40  ind_tjcr_fin_ult1      13473871 non-null  int64         \n",
      " 41  ind_valo_fin_ult1      13473871 non-null  int64         \n",
      " 42  ind_viv_fin_ult1       13473871 non-null  int64         \n",
      " 43  ind_nomina_ult1        13473657 non-null  float64       \n",
      " 44  ind_nom_pens_ult1      13473657 non-null  float64       \n",
      " 45  ind_recibo_ult1        13473871 non-null  int64         \n",
      " 46  month                  13473871 non-null  int64         \n",
      "dtypes: datetime64[ns](2), float64(6), int64(24), object(15)\n",
      "memory usage: 4.8+ GB\n"
     ]
    }
   ],
   "source": [
    "df.info(show_counts=True)"
   ]
  },
  {
   "cell_type": "markdown",
   "id": "fd6a895b",
   "metadata": {},
   "source": [
    "There are also two columns **\"ult_fec_cli_1t\" and \"conyuemp\"** which contain very little data. We'll get rid of them since they won't add much to the performance of our model.."
   ]
  },
  {
   "cell_type": "code",
   "execution_count": 35,
   "id": "eeec0ceb",
   "metadata": {
    "ExecuteTime": {
     "end_time": "2021-09-05T11:32:35.119080Z",
     "start_time": "2021-09-05T11:32:33.119106Z"
    }
   },
   "outputs": [
    {
     "name": "stderr",
     "output_type": "stream",
     "text": [
      "C:\\Users\\Mitko\\.conda\\envs\\py39\\lib\\site-packages\\pandas\\core\\frame.py:4901: SettingWithCopyWarning: \n",
      "A value is trying to be set on a copy of a slice from a DataFrame\n",
      "\n",
      "See the caveats in the documentation: https://pandas.pydata.org/pandas-docs/stable/user_guide/indexing.html#returning-a-view-versus-a-copy\n",
      "  return super().drop(\n"
     ]
    }
   ],
   "source": [
    "df.drop([\"ult_fec_cli_1t\", \"conyuemp\"], axis=1, inplace=True)"
   ]
  },
  {
   "cell_type": "markdown",
   "id": "5393c880",
   "metadata": {},
   "source": [
    "Checking if there are still columns with missing data:"
   ]
  },
  {
   "cell_type": "code",
   "execution_count": 36,
   "id": "169aa493",
   "metadata": {
    "ExecuteTime": {
     "end_time": "2021-09-05T11:32:57.615003Z",
     "start_time": "2021-09-05T11:32:53.142962Z"
    }
   },
   "outputs": [
    {
     "data": {
      "text/plain": [
       "fecha_dato               False\n",
       "ncodpers                 False\n",
       "ind_empleado             False\n",
       "pais_residencia          False\n",
       "sexo                      True\n",
       "age                      False\n",
       "fecha_alta               False\n",
       "ind_nuevo                False\n",
       "antiguedad               False\n",
       "indrel                   False\n",
       "indrel_1mes               True\n",
       "tiprel_1mes               True\n",
       "indresi                  False\n",
       "indext                   False\n",
       "canal_entrada             True\n",
       "indfall                  False\n",
       "nomprov                   True\n",
       "ind_actividad_cliente    False\n",
       "renta                     True\n",
       "segmento                  True\n",
       "ind_ahor_fin_ult1        False\n",
       "ind_aval_fin_ult1        False\n",
       "ind_cco_fin_ult1         False\n",
       "ind_cder_fin_ult1        False\n",
       "ind_cno_fin_ult1         False\n",
       "ind_ctju_fin_ult1        False\n",
       "ind_ctma_fin_ult1        False\n",
       "ind_ctop_fin_ult1        False\n",
       "ind_ctpp_fin_ult1        False\n",
       "ind_deco_fin_ult1        False\n",
       "ind_deme_fin_ult1        False\n",
       "ind_dela_fin_ult1        False\n",
       "ind_ecue_fin_ult1        False\n",
       "ind_fond_fin_ult1        False\n",
       "ind_hip_fin_ult1         False\n",
       "ind_plan_fin_ult1        False\n",
       "ind_pres_fin_ult1        False\n",
       "ind_reca_fin_ult1        False\n",
       "ind_tjcr_fin_ult1        False\n",
       "ind_valo_fin_ult1        False\n",
       "ind_viv_fin_ult1         False\n",
       "ind_nomina_ult1           True\n",
       "ind_nom_pens_ult1         True\n",
       "ind_recibo_ult1          False\n",
       "month                    False\n",
       "dtype: bool"
      ]
     },
     "execution_count": 36,
     "metadata": {},
     "output_type": "execute_result"
    }
   ],
   "source": [
    "df.isnull().any()"
   ]
  },
  {
   "cell_type": "markdown",
   "id": "1d977360",
   "metadata": {},
   "source": [
    "Let's explore the \"nomprov\":"
   ]
  },
  {
   "cell_type": "code",
   "execution_count": 37,
   "id": "ba021621",
   "metadata": {
    "ExecuteTime": {
     "end_time": "2021-09-05T11:33:46.164779Z",
     "start_time": "2021-09-05T11:33:45.871531Z"
    },
    "scrolled": true
   },
   "outputs": [
    {
     "data": {
      "text/plain": [
       "array(['MALAGA', 'CIUDAD REAL', 'ZARAGOZA', 'TOLEDO', 'LEON', 'GIPUZKOA',\n",
       "       'CACERES', 'GIRONA', 'ZAMORA', 'BARCELONA', 'SALAMANCA', 'BURGOS',\n",
       "       'HUESCA', 'NAVARRA', 'AVILA', 'SEGOVIA', 'LUGO', 'LERIDA',\n",
       "       'MADRID', 'ALICANTE', 'SORIA', 'SEVILLA', 'CANTABRIA',\n",
       "       'BALEARS, ILLES', 'VALLADOLID', 'PONTEVEDRA', 'VALENCIA', 'TERUEL',\n",
       "       'CORUÑA, A', 'OURENSE', 'JAEN', 'CUENCA', 'BIZKAIA', 'CASTELLON',\n",
       "       'RIOJA, LA', 'ALBACETE', 'BADAJOZ', 'MURCIA', 'CADIZ', 'ALMERIA',\n",
       "       'GUADALAJARA', 'PALENCIA', 'PALMAS, LAS', 'CORDOBA', 'HUELVA',\n",
       "       'GRANADA', 'ASTURIAS', 'SANTA CRUZ DE TENERIFE', 'MELILLA',\n",
       "       'TARRAGONA', 'ALAVA', nan, 'CEUTA'], dtype=object)"
      ]
     },
     "execution_count": 37,
     "metadata": {},
     "output_type": "execute_result"
    }
   ],
   "source": [
    "df[\"nomprov\"].unique()"
   ]
  },
  {
   "cell_type": "markdown",
   "id": "19f5f706",
   "metadata": {},
   "source": [
    "There is a unicode problem with Ñ in **CORUÑA, A** + some nan values which will be filled in as *UNKNOWN*"
   ]
  },
  {
   "cell_type": "code",
   "execution_count": 38,
   "id": "4e211d83",
   "metadata": {
    "ExecuteTime": {
     "end_time": "2021-09-05T11:34:25.654089Z",
     "start_time": "2021-09-05T11:34:25.077006Z"
    }
   },
   "outputs": [
    {
     "name": "stderr",
     "output_type": "stream",
     "text": [
      "C:\\Users\\Mitko\\.conda\\envs\\py39\\lib\\site-packages\\pandas\\core\\indexing.py:1817: SettingWithCopyWarning: \n",
      "A value is trying to be set on a copy of a slice from a DataFrame.\n",
      "Try using .loc[row_indexer,col_indexer] = value instead\n",
      "\n",
      "See the caveats in the documentation: https://pandas.pydata.org/pandas-docs/stable/user_guide/indexing.html#returning-a-view-versus-a-copy\n",
      "  self._setitem_single_column(loc, value, pi)\n"
     ]
    }
   ],
   "source": [
    "df.loc[df[\"nomprov\"]==\"CORU\\xc3\\x91A, A\", \"nomprov\"] = \"CORUNA, A\""
   ]
  },
  {
   "cell_type": "code",
   "execution_count": 39,
   "id": "d0e94bad",
   "metadata": {
    "ExecuteTime": {
     "end_time": "2021-09-05T11:34:29.470911Z",
     "start_time": "2021-09-05T11:34:29.030308Z"
    }
   },
   "outputs": [
    {
     "name": "stderr",
     "output_type": "stream",
     "text": [
      "C:\\Users\\Mitko\\.conda\\envs\\py39\\lib\\site-packages\\pandas\\core\\indexing.py:1817: SettingWithCopyWarning: \n",
      "A value is trying to be set on a copy of a slice from a DataFrame.\n",
      "Try using .loc[row_indexer,col_indexer] = value instead\n",
      "\n",
      "See the caveats in the documentation: https://pandas.pydata.org/pandas-docs/stable/user_guide/indexing.html#returning-a-view-versus-a-copy\n",
      "  self._setitem_single_column(loc, value, pi)\n"
     ]
    }
   ],
   "source": [
    "df.loc[df[\"nomprov\"].isnull(), \"nomprov\"] = \"UNKNOWN\""
   ]
  },
  {
   "cell_type": "markdown",
   "id": "b9fce2d0",
   "metadata": {},
   "source": [
    "Checking the columns again:"
   ]
  },
  {
   "cell_type": "code",
   "execution_count": 40,
   "id": "23add8d7",
   "metadata": {
    "ExecuteTime": {
     "end_time": "2021-09-05T11:34:59.361982Z",
     "start_time": "2021-09-05T11:34:54.808382Z"
    }
   },
   "outputs": [
    {
     "data": {
      "text/plain": [
       "fecha_dato               False\n",
       "ncodpers                 False\n",
       "ind_empleado             False\n",
       "pais_residencia          False\n",
       "sexo                      True\n",
       "age                      False\n",
       "fecha_alta               False\n",
       "ind_nuevo                False\n",
       "antiguedad               False\n",
       "indrel                   False\n",
       "indrel_1mes               True\n",
       "tiprel_1mes               True\n",
       "indresi                  False\n",
       "indext                   False\n",
       "canal_entrada             True\n",
       "indfall                  False\n",
       "nomprov                  False\n",
       "ind_actividad_cliente    False\n",
       "renta                     True\n",
       "segmento                  True\n",
       "ind_ahor_fin_ult1        False\n",
       "ind_aval_fin_ult1        False\n",
       "ind_cco_fin_ult1         False\n",
       "ind_cder_fin_ult1        False\n",
       "ind_cno_fin_ult1         False\n",
       "ind_ctju_fin_ult1        False\n",
       "ind_ctma_fin_ult1        False\n",
       "ind_ctop_fin_ult1        False\n",
       "ind_ctpp_fin_ult1        False\n",
       "ind_deco_fin_ult1        False\n",
       "ind_deme_fin_ult1        False\n",
       "ind_dela_fin_ult1        False\n",
       "ind_ecue_fin_ult1        False\n",
       "ind_fond_fin_ult1        False\n",
       "ind_hip_fin_ult1         False\n",
       "ind_plan_fin_ult1        False\n",
       "ind_pres_fin_ult1        False\n",
       "ind_reca_fin_ult1        False\n",
       "ind_tjcr_fin_ult1        False\n",
       "ind_valo_fin_ult1        False\n",
       "ind_viv_fin_ult1         False\n",
       "ind_nomina_ult1           True\n",
       "ind_nom_pens_ult1         True\n",
       "ind_recibo_ult1          False\n",
       "month                    False\n",
       "dtype: bool"
      ]
     },
     "execution_count": 40,
     "metadata": {},
     "output_type": "execute_result"
    }
   ],
   "source": [
    "df.isnull().any()"
   ]
  },
  {
   "cell_type": "markdown",
   "id": "6250d9a8",
   "metadata": {},
   "source": [
    "\"renta\" column, which shows the income of the clients, seems interesting. Let's explore it further.."
   ]
  },
  {
   "cell_type": "code",
   "execution_count": 45,
   "id": "9ac16704",
   "metadata": {
    "ExecuteTime": {
     "end_time": "2021-09-05T11:37:20.360937Z",
     "start_time": "2021-09-05T11:37:20.323781Z"
    }
   },
   "outputs": [
    {
     "name": "stdout",
     "output_type": "stream",
     "text": [
      "Column renta missing values: 2745916\n"
     ]
    }
   ],
   "source": [
    "print(f\"Column renta missing values: {df.renta.isnull().sum()}\")"
   ]
  },
  {
   "cell_type": "markdown",
   "id": "c41f004c",
   "metadata": {},
   "source": [
    "- renta has quite a lot of missing values, simply filling them in with the median value is not ideal\n",
    "- Instead, **we will fill in the income of the clients based on region they are in**, something which should be more accurate"
   ]
  },
  {
   "cell_type": "code",
   "execution_count": 46,
   "id": "603250a9",
   "metadata": {
    "ExecuteTime": {
     "end_time": "2021-09-05T11:38:20.583101Z",
     "start_time": "2021-09-05T11:38:17.728386Z"
    }
   },
   "outputs": [],
   "source": [
    "rentas = df.loc[df[\"renta\"].notnull()].groupby(\"nomprov\").agg({\"renta\":median})\n",
    "rentas = rentas.sort_values(by=\"renta\")"
   ]
  },
  {
   "cell_type": "code",
   "execution_count": 47,
   "id": "5a3d689b",
   "metadata": {
    "ExecuteTime": {
     "end_time": "2021-09-05T11:38:23.827382Z",
     "start_time": "2021-09-05T11:38:23.814638Z"
    },
    "scrolled": true
   },
   "outputs": [],
   "source": [
    "rentas = rentas.sort_values(by=\"renta\")"
   ]
  },
  {
   "cell_type": "code",
   "execution_count": 48,
   "id": "86539399",
   "metadata": {
    "ExecuteTime": {
     "end_time": "2021-09-05T11:38:25.195739Z",
     "start_time": "2021-09-05T11:38:25.178738Z"
    }
   },
   "outputs": [
    {
     "data": {
      "text/plain": [
       "Index(['renta'], dtype='object')"
      ]
     },
     "execution_count": 48,
     "metadata": {},
     "output_type": "execute_result"
    }
   ],
   "source": [
    "rentas.keys()"
   ]
  },
  {
   "cell_type": "code",
   "execution_count": 49,
   "id": "823101e0",
   "metadata": {
    "ExecuteTime": {
     "end_time": "2021-09-05T11:38:27.489208Z",
     "start_time": "2021-09-05T11:38:27.484208Z"
    }
   },
   "outputs": [],
   "source": [
    "rentas_ser = rentas[\"renta\"]"
   ]
  },
  {
   "cell_type": "code",
   "execution_count": 50,
   "id": "3e381c61",
   "metadata": {
    "ExecuteTime": {
     "end_time": "2021-09-05T11:38:29.257738Z",
     "start_time": "2021-09-05T11:38:29.244727Z"
    }
   },
   "outputs": [
    {
     "data": {
      "text/plain": [
       "nomprov\n",
       "CIUDAD REAL                62186.19\n",
       "BADAJOZ                    62301.90\n",
       "LUGO                       64390.53\n",
       "LERIDA                     64849.62\n",
       "CASTELLON                  66630.30\n",
       "CUENCA                     67230.81\n",
       "ALICANTE                   67470.93\n",
       "CACERES                    67750.71\n",
       "MURCIA                     67807.92\n",
       "JAEN                       67919.07\n",
       "AVILA                      68470.68\n",
       "TOLEDO                     68823.15\n",
       "HUELVA                     69000.99\n",
       "CORDOBA                    69041.67\n",
       "VALENCIA                   72835.92\n",
       "HUESCA                     73293.99\n",
       "ALMERIA                    73378.80\n",
       "ZAMORA                     74663.01\n",
       "TERUEL                     76435.05\n",
       "ALBACETE                   78574.83\n",
       "SORIA                      78838.92\n",
       "CADIZ                      78906.99\n",
       "OURENSE                    79024.68\n",
       "GIPUZKOA                   80599.14\n",
       "PALMAS, LAS                80824.35\n",
       "LEON                       81008.76\n",
       "GRANADA                    82377.15\n",
       "SANTA CRUZ DE TENERIFE     82742.94\n",
       "PALENCIA                   86593.08\n",
       "NAVARRA                    86649.27\n",
       "ASTURIAS                   87115.41\n",
       "TARRAGONA                  88237.47\n",
       "SEGOVIA                    89035.59\n",
       "BURGOS                     89298.00\n",
       "SALAMANCA                  89772.39\n",
       "RIOJA, LA                  89972.01\n",
       "SEVILLA                    92550.96\n",
       "GUADALAJARA                92609.10\n",
       "VALLADOLID                 92689.80\n",
       "MALAGA                     94961.91\n",
       "CANTABRIA                  95413.71\n",
       "ALAVA                      96967.65\n",
       "CORUÑA, A                  97620.48\n",
       "PONTEVEDRA                 97760.91\n",
       "ZARAGOZA                   99944.49\n",
       "BIZKAIA                    99978.78\n",
       "GIRONA                    108963.21\n",
       "MELILLA                   117204.24\n",
       "BALEARS, ILLES            123922.32\n",
       "CEUTA                     128699.58\n",
       "BARCELONA                 131176.02\n",
       "UNKNOWN                   137860.11\n",
       "MADRID                    138697.26\n",
       "Name: renta, dtype: float64"
      ]
     },
     "execution_count": 50,
     "metadata": {},
     "output_type": "execute_result"
    }
   ],
   "source": [
    "rentas_ser"
   ]
  },
  {
   "cell_type": "code",
   "execution_count": 51,
   "id": "f2477fed",
   "metadata": {
    "ExecuteTime": {
     "end_time": "2021-09-05T11:38:33.449069Z",
     "start_time": "2021-09-05T11:38:33.040098Z"
    }
   },
   "outputs": [
    {
     "data": {
      "image/png": "[encoded data removed]",
      "text/plain": [
       "<Figure size 720x720 with 1 Axes>"
      ]
     },
     "metadata": {},
     "output_type": "display_data"
    }
   ],
   "source": [
    "plt.figure(figsize=(10, 10))\n",
    "# sns.set_hls_values\n",
    "sns.set_style(\"whitegrid\")\n",
    "plt.barh(y=rentas_ser.index,\n",
    "         width=rentas_ser,\n",
    "#              bins=80,\n",
    "             color=\"g\")\n",
    "\n",
    "\n",
    "\n",
    "plt.title(\"Income distribution by city\")\n",
    "plt.ylabel(\"City\")\n",
    "plt.show()"
   ]
  },
  {
   "cell_type": "markdown",
   "id": "420ad1b0",
   "metadata": {},
   "source": [
    "The plot above clearly shows that there are some significant differences in terms of income distribution by city, so filling in the salaries based on the city seems like a decent choice.. Let's do that"
   ]
  },
  {
   "cell_type": "code",
   "execution_count": null,
   "id": "e8c924a4",
   "metadata": {},
   "outputs": [],
   "source": []
  },
  {
   "cell_type": "code",
   "execution_count": 52,
   "id": "345ca5f0",
   "metadata": {
    "ExecuteTime": {
     "end_time": "2021-09-05T11:40:23.955533Z",
     "start_time": "2021-09-05T11:39:51.798889Z"
    }
   },
   "outputs": [],
   "source": [
    "df = pd.merge(df, rentas, how=\"inner\", on=\"nomprov\")"
   ]
  },
  {
   "cell_type": "code",
   "execution_count": 53,
   "id": "235f2e57",
   "metadata": {
    "ExecuteTime": {
     "end_time": "2021-09-05T11:40:44.446958Z",
     "start_time": "2021-09-05T11:40:40.336958Z"
    }
   },
   "outputs": [
    {
     "data": {
      "text/html": [
       "<div>\n",
       "<style scoped>\n",
       "    .dataframe tbody tr th:only-of-type {\n",
       "        vertical-align: middle;\n",
       "    }\n",
       "\n",
       "    .dataframe tbody tr th {\n",
       "        vertical-align: top;\n",
       "    }\n",
       "\n",
       "    .dataframe thead th {\n",
       "        text-align: right;\n",
       "    }\n",
       "</style>\n",
       "<table border=\"1\" class=\"dataframe\">\n",
       "  <thead>\n",
       "    <tr style=\"text-align: right;\">\n",
       "      <th></th>\n",
       "      <th>renta_x</th>\n",
       "      <th>renta_y</th>\n",
       "      <th>nomprov</th>\n",
       "    </tr>\n",
       "  </thead>\n",
       "  <tbody>\n",
       "    <tr>\n",
       "      <th>2</th>\n",
       "      <td>NaN</td>\n",
       "      <td>94961.91</td>\n",
       "      <td>MALAGA</td>\n",
       "    </tr>\n",
       "    <tr>\n",
       "      <th>8</th>\n",
       "      <td>NaN</td>\n",
       "      <td>94961.91</td>\n",
       "      <td>MALAGA</td>\n",
       "    </tr>\n",
       "    <tr>\n",
       "      <th>19</th>\n",
       "      <td>NaN</td>\n",
       "      <td>94961.91</td>\n",
       "      <td>MALAGA</td>\n",
       "    </tr>\n",
       "    <tr>\n",
       "      <th>20</th>\n",
       "      <td>NaN</td>\n",
       "      <td>94961.91</td>\n",
       "      <td>MALAGA</td>\n",
       "    </tr>\n",
       "    <tr>\n",
       "      <th>24</th>\n",
       "      <td>NaN</td>\n",
       "      <td>94961.91</td>\n",
       "      <td>MALAGA</td>\n",
       "    </tr>\n",
       "    <tr>\n",
       "      <th>...</th>\n",
       "      <td>...</td>\n",
       "      <td>...</td>\n",
       "      <td>...</td>\n",
       "    </tr>\n",
       "    <tr>\n",
       "      <th>13473862</th>\n",
       "      <td>NaN</td>\n",
       "      <td>128699.58</td>\n",
       "      <td>CEUTA</td>\n",
       "    </tr>\n",
       "    <tr>\n",
       "      <th>13473865</th>\n",
       "      <td>NaN</td>\n",
       "      <td>128699.58</td>\n",
       "      <td>CEUTA</td>\n",
       "    </tr>\n",
       "    <tr>\n",
       "      <th>13473866</th>\n",
       "      <td>NaN</td>\n",
       "      <td>128699.58</td>\n",
       "      <td>CEUTA</td>\n",
       "    </tr>\n",
       "    <tr>\n",
       "      <th>13473868</th>\n",
       "      <td>NaN</td>\n",
       "      <td>128699.58</td>\n",
       "      <td>CEUTA</td>\n",
       "    </tr>\n",
       "    <tr>\n",
       "      <th>13473869</th>\n",
       "      <td>NaN</td>\n",
       "      <td>128699.58</td>\n",
       "      <td>CEUTA</td>\n",
       "    </tr>\n",
       "  </tbody>\n",
       "</table>\n",
       "<p>2745916 rows × 3 columns</p>\n",
       "</div>"
      ],
      "text/plain": [
       "          renta_x    renta_y nomprov\n",
       "2             NaN   94961.91  MALAGA\n",
       "8             NaN   94961.91  MALAGA\n",
       "19            NaN   94961.91  MALAGA\n",
       "20            NaN   94961.91  MALAGA\n",
       "24            NaN   94961.91  MALAGA\n",
       "...           ...        ...     ...\n",
       "13473862      NaN  128699.58   CEUTA\n",
       "13473865      NaN  128699.58   CEUTA\n",
       "13473866      NaN  128699.58   CEUTA\n",
       "13473868      NaN  128699.58   CEUTA\n",
       "13473869      NaN  128699.58   CEUTA\n",
       "\n",
       "[2745916 rows x 3 columns]"
      ]
     },
     "execution_count": 53,
     "metadata": {},
     "output_type": "execute_result"
    }
   ],
   "source": [
    "df.loc[df[\"renta_x\"].isnull(), [\"renta_x\", \"renta_y\", \"nomprov\"]]"
   ]
  },
  {
   "cell_type": "code",
   "execution_count": 54,
   "id": "61a48472",
   "metadata": {
    "ExecuteTime": {
     "end_time": "2021-09-05T11:40:48.673798Z",
     "start_time": "2021-09-05T11:40:48.657913Z"
    }
   },
   "outputs": [],
   "source": [
    "df.rename(columns={\"renta_y\": \"renta\"}, inplace=True)"
   ]
  },
  {
   "cell_type": "code",
   "execution_count": 55,
   "id": "6eb5248f",
   "metadata": {
    "ExecuteTime": {
     "end_time": "2021-09-05T11:40:51.517402Z",
     "start_time": "2021-09-05T11:40:49.411592Z"
    }
   },
   "outputs": [],
   "source": [
    "df = df.drop([\"renta_x\"], axis=1)"
   ]
  },
  {
   "cell_type": "code",
   "execution_count": 57,
   "id": "8196af21",
   "metadata": {
    "ExecuteTime": {
     "end_time": "2021-09-05T11:41:09.290128Z",
     "start_time": "2021-09-05T11:41:04.816953Z"
    }
   },
   "outputs": [
    {
     "data": {
      "text/plain": [
       "fecha_dato               False\n",
       "ncodpers                 False\n",
       "ind_empleado             False\n",
       "pais_residencia          False\n",
       "sexo                      True\n",
       "age                      False\n",
       "fecha_alta               False\n",
       "ind_nuevo                False\n",
       "antiguedad               False\n",
       "indrel                   False\n",
       "indrel_1mes               True\n",
       "tiprel_1mes               True\n",
       "indresi                  False\n",
       "indext                   False\n",
       "canal_entrada             True\n",
       "indfall                  False\n",
       "nomprov                  False\n",
       "ind_actividad_cliente    False\n",
       "segmento                  True\n",
       "ind_ahor_fin_ult1        False\n",
       "ind_aval_fin_ult1        False\n",
       "ind_cco_fin_ult1         False\n",
       "ind_cder_fin_ult1        False\n",
       "ind_cno_fin_ult1         False\n",
       "ind_ctju_fin_ult1        False\n",
       "ind_ctma_fin_ult1        False\n",
       "ind_ctop_fin_ult1        False\n",
       "ind_ctpp_fin_ult1        False\n",
       "ind_deco_fin_ult1        False\n",
       "ind_deme_fin_ult1        False\n",
       "ind_dela_fin_ult1        False\n",
       "ind_ecue_fin_ult1        False\n",
       "ind_fond_fin_ult1        False\n",
       "ind_hip_fin_ult1         False\n",
       "ind_plan_fin_ult1        False\n",
       "ind_pres_fin_ult1        False\n",
       "ind_reca_fin_ult1        False\n",
       "ind_tjcr_fin_ult1        False\n",
       "ind_valo_fin_ult1        False\n",
       "ind_viv_fin_ult1         False\n",
       "ind_nomina_ult1           True\n",
       "ind_nom_pens_ult1         True\n",
       "ind_recibo_ult1          False\n",
       "month                    False\n",
       "renta                    False\n",
       "dtype: bool"
      ]
     },
     "execution_count": 57,
     "metadata": {},
     "output_type": "execute_result"
    }
   ],
   "source": [
    "df.isnull().any()"
   ]
  },
  {
   "cell_type": "markdown",
   "id": "fd3e4647",
   "metadata": {},
   "source": [
    "Check the two products **\"ind_nomina_ult1\" and \"ind_nom_pens_ult1\"** that have missing values"
   ]
  },
  {
   "cell_type": "code",
   "execution_count": 60,
   "id": "ac27da34",
   "metadata": {
    "ExecuteTime": {
     "end_time": "2021-09-05T11:42:05.553065Z",
     "start_time": "2021-09-05T11:42:05.529555Z"
    }
   },
   "outputs": [
    {
     "data": {
      "text/plain": [
       "214"
      ]
     },
     "execution_count": 60,
     "metadata": {},
     "output_type": "execute_result"
    }
   ],
   "source": [
    "df[\"ind_nomina_ult1\"].isnull().sum()"
   ]
  },
  {
   "cell_type": "code",
   "execution_count": 61,
   "id": "f0d5ccdc",
   "metadata": {
    "ExecuteTime": {
     "end_time": "2021-09-05T11:42:05.728435Z",
     "start_time": "2021-09-05T11:42:05.697428Z"
    }
   },
   "outputs": [
    {
     "data": {
      "text/plain": [
       "214"
      ]
     },
     "execution_count": 61,
     "metadata": {},
     "output_type": "execute_result"
    }
   ],
   "source": [
    "df[\"ind_nom_pens_ult1\"].isnull().sum()"
   ]
  },
  {
   "cell_type": "markdown",
   "id": "8eed4a67",
   "metadata": {},
   "source": [
    "The fastest and easiest way out is to assign them as not haves (or not purchased) equaling 0s"
   ]
  },
  {
   "cell_type": "code",
   "execution_count": 62,
   "id": "3a9b2369",
   "metadata": {
    "ExecuteTime": {
     "end_time": "2021-09-05T11:43:01.593079Z",
     "start_time": "2021-09-05T11:43:01.510925Z"
    }
   },
   "outputs": [],
   "source": [
    "df.loc[df[\"ind_nomina_ult1\"].isnull(), \"ind_nomina_ult1\"] = 0"
   ]
  },
  {
   "cell_type": "code",
   "execution_count": 63,
   "id": "172a5ac0",
   "metadata": {
    "ExecuteTime": {
     "end_time": "2021-09-05T11:43:01.767120Z",
     "start_time": "2021-09-05T11:43:01.688101Z"
    }
   },
   "outputs": [],
   "source": [
    "df.loc[df[\"ind_nom_pens_ult1\"].isnull(), \"ind_nom_pens_ult1\"] = 0"
   ]
  },
  {
   "cell_type": "code",
   "execution_count": 64,
   "id": "5361bb12",
   "metadata": {
    "ExecuteTime": {
     "end_time": "2021-09-05T11:43:07.807634Z",
     "start_time": "2021-09-05T11:43:03.382931Z"
    }
   },
   "outputs": [
    {
     "data": {
      "text/plain": [
       "fecha_dato               False\n",
       "ncodpers                 False\n",
       "ind_empleado             False\n",
       "pais_residencia          False\n",
       "sexo                      True\n",
       "age                      False\n",
       "fecha_alta               False\n",
       "ind_nuevo                False\n",
       "antiguedad               False\n",
       "indrel                   False\n",
       "indrel_1mes               True\n",
       "tiprel_1mes               True\n",
       "indresi                  False\n",
       "indext                   False\n",
       "canal_entrada             True\n",
       "indfall                  False\n",
       "nomprov                  False\n",
       "ind_actividad_cliente    False\n",
       "segmento                  True\n",
       "ind_ahor_fin_ult1        False\n",
       "ind_aval_fin_ult1        False\n",
       "ind_cco_fin_ult1         False\n",
       "ind_cder_fin_ult1        False\n",
       "ind_cno_fin_ult1         False\n",
       "ind_ctju_fin_ult1        False\n",
       "ind_ctma_fin_ult1        False\n",
       "ind_ctop_fin_ult1        False\n",
       "ind_ctpp_fin_ult1        False\n",
       "ind_deco_fin_ult1        False\n",
       "ind_deme_fin_ult1        False\n",
       "ind_dela_fin_ult1        False\n",
       "ind_ecue_fin_ult1        False\n",
       "ind_fond_fin_ult1        False\n",
       "ind_hip_fin_ult1         False\n",
       "ind_plan_fin_ult1        False\n",
       "ind_pres_fin_ult1        False\n",
       "ind_reca_fin_ult1        False\n",
       "ind_tjcr_fin_ult1        False\n",
       "ind_valo_fin_ult1        False\n",
       "ind_viv_fin_ult1         False\n",
       "ind_nomina_ult1          False\n",
       "ind_nom_pens_ult1        False\n",
       "ind_recibo_ult1          False\n",
       "month                    False\n",
       "renta                    False\n",
       "dtype: bool"
      ]
     },
     "execution_count": 64,
     "metadata": {},
     "output_type": "execute_result"
    }
   ],
   "source": [
    "df.isnull().any()"
   ]
  },
  {
   "cell_type": "markdown",
   "id": "138103cb",
   "metadata": {
    "ExecuteTime": {
     "start_time": "2021-09-04T08:57:54.608Z"
    }
   },
   "source": [
    "Seems there are still a few columns with missing values left. Let's check their unique values in order to fill them in appropriately"
   ]
  },
  {
   "cell_type": "code",
   "execution_count": 65,
   "id": "5eda0798",
   "metadata": {
    "ExecuteTime": {
     "end_time": "2021-09-05T11:44:15.704039Z",
     "start_time": "2021-09-05T11:44:11.375610Z"
    }
   },
   "outputs": [],
   "source": [
    "missing_cols = [col for col in df if df[col].isnull().any()]"
   ]
  },
  {
   "cell_type": "code",
   "execution_count": 66,
   "id": "58b92039",
   "metadata": {
    "ExecuteTime": {
     "end_time": "2021-09-05T11:44:15.813818Z",
     "start_time": "2021-09-05T11:44:15.799495Z"
    }
   },
   "outputs": [
    {
     "data": {
      "text/plain": [
       "['sexo', 'indrel_1mes', 'tiprel_1mes', 'canal_entrada', 'segmento']"
      ]
     },
     "execution_count": 66,
     "metadata": {},
     "output_type": "execute_result"
    }
   ],
   "source": [
    "missing_cols"
   ]
  },
  {
   "cell_type": "code",
   "execution_count": 68,
   "id": "68b89f92",
   "metadata": {
    "ExecuteTime": {
     "end_time": "2021-09-05T11:45:14.574317Z",
     "start_time": "2021-09-05T11:45:09.554348Z"
    }
   },
   "outputs": [
    {
     "name": "stdout",
     "output_type": "stream",
     "text": [
      "Unique values for sexo:\n",
      "['H' 'V' nan]\n",
      "Values distribution:\n",
      "V    0.54562\n",
      "H    0.45438\n",
      "Name: sexo, dtype: float64\n",
      "Missing values: 53\n",
      "\n",
      "Unique values for indrel_1mes:\n",
      "['1.0' '1' '4.0' '3.0' '3' 'P' nan '2' '2.0' '4']\n",
      "Values distribution:\n",
      "1.0    0.676623\n",
      "1      0.322865\n",
      "3.0    0.000207\n",
      "3      0.000118\n",
      "P      0.000065\n",
      "2.0    0.000055\n",
      "2      0.000043\n",
      "4.0    0.000017\n",
      "4      0.000006\n",
      "Name: indrel_1mes, dtype: float64\n",
      "Missing values: 121253\n",
      "\n",
      "Unique values for tiprel_1mes:\n",
      "['A' 'I' 'P' 'R' nan 'N']\n",
      "Values distribution:\n",
      "I    5.437069e-01\n",
      "A    4.558804e-01\n",
      "P    3.476472e-04\n",
      "R    6.493109e-05\n",
      "N    7.489168e-08\n",
      "Name: tiprel_1mes, dtype: float64\n",
      "Missing values: 121253\n",
      "\n",
      "Unique values for canal_entrada:\n",
      "['KHL' 'KFC' 'KHE' 'KHD' 'KAT' 'KFA' 'KAZ' 'RED' 'KEH' 'KHC' 'KFN' 'KAJ'\n",
      " 'KFP' 'KFJ' 'KHK' 'KAQ' 'KHN' 'KHF' 'KCG' '007' 'KEU' 'KBZ' 'KBO' 'KES'\n",
      " 'KCA' 'KAG' 'KCB' 'KAD' 'KBQ' 'KAS' 'KAY' 'KAI' 'KCF' 'KEY' 'KAF' 'KCC'\n",
      " '013' 'KAE' 'KEZ' 'KEG' 'KAC' 'KBH' 'KCI' 'KAW' 'KEJ' 'KAP' 'KAR' 'KAM'\n",
      " 'KAB' 'KCH' 'KAA' 'KAH' 'KAL' 'KFB' 'KFD' 'KBF' 'KEN' 'KFT' '004' nan\n",
      " 'KCD' 'KED' 'KDT' 'KDR' 'KEK' 'KBB' 'KAO' 'KDM' 'KEL' 'KHM' 'KFU' 'KEQ'\n",
      " 'KHQ' 'KHO' 'KCE' 'KFI' 'KFH' 'KGX' 'KBM' 'KBR' 'KFS' 'KBN' 'KCO' 'KDC'\n",
      " 'KBU' 'KCK' 'KCL' 'KCN' 'KCM' 'KDZ' 'KCU' 'KAK' 'KDY' 'KCP' 'KDD' 'KEW'\n",
      " 'KFG' 'KGY' 'KCR' 'KCQ' 'KDX' 'KEV' 'KHP' 'KDH' 'KBG' 'KEI' 'KBL' 'KBY'\n",
      " 'KBW' 'KAV' 'KDN' 'KDG' 'KGV' 'KFK' 'KFV' 'KAN' 'KFL' 'KEO' 'KGN' 'KDO'\n",
      " 'KAU' 'KFF' 'KDE' 'KDA' 'KCS' 'KDU' 'KCV' 'KCT' 'KDB' 'KCX' 'KDS' 'KDF'\n",
      " 'KEF' 'KBS' 'KBV' 'KGW' 'KEC' 'KDV' 'KDQ' 'KEM' '025' 'KHA' 'KBD' 'KBX'\n",
      " 'KBE' 'KBP' 'KEB' 'KBJ' 'KDW' 'KFM' 'K00' 'KGU' 'KFE' 'KCJ' 'KGC' 'KEA'\n",
      " 'KHR' 'KHS' 'KDL' 'KFR' 'KEE' 'KDI' 'KDP']\n",
      "Values distribution:\n",
      "KHE    3.045132e-01\n",
      "KAT    2.418046e-01\n",
      "KFC    2.269203e-01\n",
      "KHQ    4.437906e-02\n",
      "KFA    2.958796e-02\n",
      "KHK    1.810300e-02\n",
      "KHM    1.381090e-02\n",
      "KHD    8.756458e-03\n",
      "KHN    8.753830e-03\n",
      "KAS    6.446819e-03\n",
      "RED    5.676289e-03\n",
      "KAG    5.566052e-03\n",
      "KAY    5.030338e-03\n",
      "KAA    4.992566e-03\n",
      "KAB    4.666136e-03\n",
      "KAE    3.800312e-03\n",
      "KCC    3.685195e-03\n",
      "KBZ    3.485071e-03\n",
      "KHL    3.388802e-03\n",
      "KFD    3.329629e-03\n",
      "KAI    2.814565e-03\n",
      "KEY    2.619774e-03\n",
      "KAW    2.573066e-03\n",
      "KAR    2.450814e-03\n",
      "KAZ    2.416947e-03\n",
      "KAF    2.289514e-03\n",
      "007    2.175297e-03\n",
      "013    2.033296e-03\n",
      "KCI    1.993197e-03\n",
      "KAH    1.861108e-03\n",
      "KAJ    1.820182e-03\n",
      "KCH    1.809594e-03\n",
      "KHF    1.552325e-03\n",
      "KAQ    1.350399e-03\n",
      "KHC    1.216508e-03\n",
      "KAP    1.116259e-03\n",
      "KAM    8.474258e-04\n",
      "KAD    7.973387e-04\n",
      "KFP    7.111318e-04\n",
      "KGX    7.093296e-04\n",
      "KEJ    6.943860e-04\n",
      "KHO    6.752373e-04\n",
      "KGV    6.720834e-04\n",
      "KDR    6.044996e-04\n",
      "KFT    6.017962e-04\n",
      "KAC    5.755887e-04\n",
      "KAL    5.665776e-04\n",
      "KBO    5.541872e-04\n",
      "KBH    5.396191e-04\n",
      "KFG    5.093566e-04\n",
      "KFS    5.026733e-04\n",
      "KAO    5.000451e-04\n",
      "KFJ    4.971164e-04\n",
      "KES    4.400457e-04\n",
      "KEW    4.270545e-04\n",
      "KFF    4.150396e-04\n",
      "KCG    4.028746e-04\n",
      "KCB    3.882314e-04\n",
      "KEN    3.692328e-04\n",
      "KFU    3.681815e-04\n",
      "KFN    3.385949e-04\n",
      "KCL    3.144149e-04\n",
      "KBQ    3.138141e-04\n",
      "KGY    3.107353e-04\n",
      "KFK    2.938394e-04\n",
      "KFL    2.832512e-04\n",
      "KBF    2.823501e-04\n",
      "KCD    2.460050e-04\n",
      "KCM    2.441277e-04\n",
      "KBU    2.348162e-04\n",
      "KED    2.261054e-04\n",
      "KDU    1.930644e-04\n",
      "KFH    1.929893e-04\n",
      "KEL    1.864562e-04\n",
      "KDM    1.853298e-04\n",
      "KEZ    1.827015e-04\n",
      "KDY    1.471825e-04\n",
      "KDS    1.444792e-04\n",
      "KEG    1.423015e-04\n",
      "KBR    1.407996e-04\n",
      "KDO    1.323892e-04\n",
      "KDX    1.297609e-04\n",
      "KBG    1.295356e-04\n",
      "KEH    1.160940e-04\n",
      "KDC    1.149676e-04\n",
      "KCA    1.148925e-04\n",
      "KAN    1.028776e-04\n",
      "KDT    9.754596e-05\n",
      "KBB    9.747086e-05\n",
      "KBW    8.485522e-05\n",
      "KCN    8.387901e-05\n",
      "KDQ    8.350354e-05\n",
      "KCU    8.117566e-05\n",
      "KDP    7.516821e-05\n",
      "KGW    7.426709e-05\n",
      "KCK    7.186411e-05\n",
      "KEI    7.088790e-05\n",
      "KBV    6.728343e-05\n",
      "KFI    6.615703e-05\n",
      "KEA    6.390424e-05\n",
      "KEO    6.382915e-05\n",
      "KEV    6.337859e-05\n",
      "KAK    6.292803e-05\n",
      "KDE    6.217710e-05\n",
      "KDW    5.797189e-05\n",
      "KDF    5.451760e-05\n",
      "KBS    5.361648e-05\n",
      "KHP    5.188934e-05\n",
      "KBY    4.820978e-05\n",
      "KBL    4.317854e-05\n",
      "KBM    4.167668e-05\n",
      "KEK    4.070047e-05\n",
      "KDD    4.009972e-05\n",
      "KDZ    3.987444e-05\n",
      "KBJ    3.897333e-05\n",
      "KDG    3.521867e-05\n",
      "KDV    3.206476e-05\n",
      "KCF    3.153911e-05\n",
      "KDA    2.846029e-05\n",
      "KFM    2.785955e-05\n",
      "KFR    2.785955e-05\n",
      "KEB    2.778445e-05\n",
      "KEF    2.470563e-05\n",
      "KCE    2.320377e-05\n",
      "KEU    1.989968e-05\n",
      "KFE    1.877328e-05\n",
      "KAU    1.869819e-05\n",
      "KBD    1.809744e-05\n",
      "KCS    1.772198e-05\n",
      "KEC    1.734651e-05\n",
      "KCV    1.719632e-05\n",
      "KCJ    1.614502e-05\n",
      "004    1.576955e-05\n",
      "KCQ    1.486844e-05\n",
      "KDN    1.479334e-05\n",
      "KCR    1.471825e-05\n",
      "KDH    1.434279e-05\n",
      "KCO    1.344167e-05\n",
      "KEE    1.314130e-05\n",
      "KCP    1.186471e-05\n",
      "K00    1.141415e-05\n",
      "KBE    1.103869e-05\n",
      "KEQ    1.096359e-05\n",
      "KAV    8.034963e-06\n",
      "KFB    8.034963e-06\n",
      "KCT    7.884777e-06\n",
      "KBX    6.382915e-06\n",
      "KBP    6.382915e-06\n",
      "KEM    5.106332e-06\n",
      "KFV    5.031239e-06\n",
      "KCX    5.031239e-06\n",
      "KBN    4.580680e-06\n",
      "KGC    2.102607e-06\n",
      "KGU    2.102607e-06\n",
      "KGN    1.276583e-06\n",
      "KDB    1.276583e-06\n",
      "KHA    1.276583e-06\n",
      "KDI    1.276583e-06\n",
      "025    8.260243e-07\n",
      "KDL    8.260243e-07\n",
      "KHS    3.754656e-07\n",
      "KHR    7.509312e-08\n",
      "Name: canal_entrada, dtype: float64\n",
      "Missing values: 157071\n",
      "\n",
      "Unique values for segmento:\n",
      "['02 - PARTICULARES' '03 - UNIVERSITARIO' '01 - TOP' nan]\n",
      "Values distribution:\n",
      "02 - PARTICULARES     0.587088\n",
      "03 - UNIVERSITARIO    0.370717\n",
      "01 - TOP              0.042194\n",
      "Name: segmento, dtype: float64\n",
      "Missing values: 160281\n",
      "\n"
     ]
    }
   ],
   "source": [
    "for col in missing_cols:\n",
    "    print(\"Unique values for {0}:\\n{1}\".format(col,df[col].unique()))\n",
    "    print(f\"Values distribution:\\n{df[col].value_counts(normalize=True)}\")\n",
    "    print(f\"Missing values: {df[col].isnull().sum()}\")\n",
    "    print()"
   ]
  },
  {
   "cell_type": "code",
   "execution_count": null,
   "id": "313f8ffb",
   "metadata": {
    "ExecuteTime": {
     "end_time": "2021-09-05T07:01:55.749354Z",
     "start_time": "2021-09-05T07:01:55.729495Z"
    }
   },
   "outputs": [],
   "source": [
    "# sexo - 0.54 vs 0.46 distribution - will fill it in with most common value (only 53 missing so cleaning method is statistically insignificant )\n",
    "# indrel_1mes - customer type (will fill it in with 1s (consist of 99% of the distribution))\n",
    "# tiprel_1mes - customer relation type (A - active; I - inactive; P - former customer; R - potential) - fill in with Unknown for now;\n",
    "# canal_entrada - channel used by the customer to join - fill in with unknown\n",
    "# segmento - segmentation - 01 - VIP; 02 - Individuals; 03 - college graduated"
   ]
  },
  {
   "cell_type": "markdown",
   "id": "b1d708e6",
   "metadata": {},
   "source": [
    "Starting from the **sexo\"** column. Because there are only 53 missing values, we're simply going to assign them to the majority class which in this case is \"V\""
   ]
  },
  {
   "cell_type": "code",
   "execution_count": 69,
   "id": "937fb8d6",
   "metadata": {
    "ExecuteTime": {
     "end_time": "2021-09-05T11:47:35.786401Z",
     "start_time": "2021-09-05T11:47:35.356720Z"
    }
   },
   "outputs": [],
   "source": [
    "df.loc[df[\"sexo\"].isnull(), \"sexo\"] = \"V\"\n"
   ]
  },
  {
   "cell_type": "markdown",
   "id": "1d244774",
   "metadata": {},
   "source": [
    "Next, the **\"indrel_1mes\"** column:\n",
    "\n",
    "This represents the customer type. <br>\n",
    "We will fill in the missing values with 1s because they consist of 99% of the whole distribution <br>\n",
    "Furthermore, the values in this column don't follow the same format (e.g. there are 1s and 1.0s which currently are treated as different values). Let's change that.."
   ]
  },
  {
   "cell_type": "code",
   "execution_count": 71,
   "id": "ddbf5a7b",
   "metadata": {
    "ExecuteTime": {
     "end_time": "2021-09-05T11:54:31.077282Z",
     "start_time": "2021-09-05T11:54:30.632231Z"
    }
   },
   "outputs": [],
   "source": [
    "df.loc[df[\"indrel_1mes\"].isnull(), \"indrel_1mes\"] = \"1\""
   ]
  },
  {
   "cell_type": "code",
   "execution_count": 72,
   "id": "b8902b99",
   "metadata": {
    "ExecuteTime": {
     "end_time": "2021-09-05T11:54:36.571147Z",
     "start_time": "2021-09-05T11:54:36.561137Z"
    }
   },
   "outputs": [],
   "source": [
    "indrel_map ={\n",
    "    1.0  : \"1\",\n",
    "    \"1.0\" : \"1\",\n",
    "    \"1\"   : \"1\",\n",
    "    \"3.0\" : \"3\",\n",
    "    \"P\"   : \"P\",\n",
    "    3.0   : \"3\",\n",
    "    2.0   : \"2\",\n",
    "    \"3\"   : \"3\",\n",
    "    \"2.0\" : \"2\",\n",
    "    \"4.0\" : \"4\",\n",
    "    \"4\"   : \"4\",\n",
    "    \"2\"   : \"2\"\n",
    "}"
   ]
  },
  {
   "cell_type": "code",
   "execution_count": 73,
   "id": "74730527",
   "metadata": {
    "ExecuteTime": {
     "end_time": "2021-09-05T11:54:38.494380Z",
     "start_time": "2021-09-05T11:54:37.059969Z"
    }
   },
   "outputs": [],
   "source": [
    "df[\"indrel_1mes\"] = df[\"indrel_1mes\"].apply(lambda x: indrel_map.get(x, x))"
   ]
  },
  {
   "cell_type": "markdown",
   "id": "fef46624",
   "metadata": {},
   "source": [
    "Next let's tackle the **\"segmento\"** column"
   ]
  },
  {
   "cell_type": "markdown",
   "id": "2ca46c77",
   "metadata": {},
   "source": [
    "Check if income makes a difference for segmento"
   ]
  },
  {
   "cell_type": "code",
   "execution_count": 76,
   "id": "7f833e5d",
   "metadata": {
    "ExecuteTime": {
     "end_time": "2021-09-05T11:57:01.219151Z",
     "start_time": "2021-09-05T11:56:57.233141Z"
    }
   },
   "outputs": [],
   "source": [
    "segm_gr = df.loc[df[\"segmento\"].notnull()].groupby(\"segmento\").agg({\"renta\": mean})"
   ]
  },
  {
   "cell_type": "code",
   "execution_count": 77,
   "id": "e38bf23e",
   "metadata": {
    "ExecuteTime": {
     "end_time": "2021-09-05T11:57:01.331177Z",
     "start_time": "2021-09-05T11:57:01.316174Z"
    }
   },
   "outputs": [
    {
     "data": {
      "text/html": [
       "<div>\n",
       "<style scoped>\n",
       "    .dataframe tbody tr th:only-of-type {\n",
       "        vertical-align: middle;\n",
       "    }\n",
       "\n",
       "    .dataframe tbody tr th {\n",
       "        vertical-align: top;\n",
       "    }\n",
       "\n",
       "    .dataframe thead th {\n",
       "        text-align: right;\n",
       "    }\n",
       "</style>\n",
       "<table border=\"1\" class=\"dataframe\">\n",
       "  <thead>\n",
       "    <tr style=\"text-align: right;\">\n",
       "      <th></th>\n",
       "      <th>renta</th>\n",
       "    </tr>\n",
       "    <tr>\n",
       "      <th>segmento</th>\n",
       "      <th></th>\n",
       "    </tr>\n",
       "  </thead>\n",
       "  <tbody>\n",
       "    <tr>\n",
       "      <th>01 - TOP</th>\n",
       "      <td>121435.440987</td>\n",
       "    </tr>\n",
       "    <tr>\n",
       "      <th>02 - PARTICULARES</th>\n",
       "      <td>111322.218862</td>\n",
       "    </tr>\n",
       "    <tr>\n",
       "      <th>03 - UNIVERSITARIO</th>\n",
       "      <td>95695.883719</td>\n",
       "    </tr>\n",
       "  </tbody>\n",
       "</table>\n",
       "</div>"
      ],
      "text/plain": [
       "                            renta\n",
       "segmento                         \n",
       "01 - TOP            121435.440987\n",
       "02 - PARTICULARES   111322.218862\n",
       "03 - UNIVERSITARIO   95695.883719"
      ]
     },
     "execution_count": 77,
     "metadata": {},
     "output_type": "execute_result"
    }
   ],
   "source": [
    "segm_gr"
   ]
  },
  {
   "cell_type": "markdown",
   "id": "97823063",
   "metadata": {},
   "source": [
    "Hmm, not enough to use only the income (renta) to fill in the missing values. <br>\n",
    "Instead, let's train a classification model to fill them in. "
   ]
  },
  {
   "cell_type": "markdown",
   "id": "5180678c",
   "metadata": {},
   "source": [
    "First we need to choose independent variables in order to predict \"segmento\""
   ]
  },
  {
   "cell_type": "code",
   "execution_count": 80,
   "id": "220eb722",
   "metadata": {
    "ExecuteTime": {
     "end_time": "2021-09-05T12:00:13.359883Z",
     "start_time": "2021-09-05T12:00:13.342367Z"
    }
   },
   "outputs": [],
   "source": [
    "ind_features = [\"ind_empleado\", \"pais_residencia\", \"age\", \"ind_nuevo\", \"antiguedad\",\n",
    "                \"indrel\", \"indrel_1mes\", \"indresi\", \"indext\", \"indfall\", \"nomprov\", \n",
    "                \"ind_actividad_cliente\", \"renta\"]"
   ]
  },
  {
   "cell_type": "markdown",
   "id": "f8f9aed6",
   "metadata": {},
   "source": [
    "Next, we will do OneHotEncoding for the categorical ones (this is done because classification models don't work with textual data, only numbers)"
   ]
  },
  {
   "cell_type": "code",
   "execution_count": 81,
   "id": "e3615773",
   "metadata": {
    "ExecuteTime": {
     "end_time": "2021-09-05T12:01:34.522408Z",
     "start_time": "2021-09-05T12:01:08.702408Z"
    }
   },
   "outputs": [],
   "source": [
    "df_dummies = pd.get_dummies(data=df[ind_features])"
   ]
  },
  {
   "cell_type": "code",
   "execution_count": 82,
   "id": "86f31811",
   "metadata": {
    "ExecuteTime": {
     "end_time": "2021-09-05T12:03:03.742451Z",
     "start_time": "2021-09-05T12:03:01.630209Z"
    }
   },
   "outputs": [],
   "source": [
    "df_dummies = df_dummies.join(df[\"segmento\"])"
   ]
  },
  {
   "cell_type": "markdown",
   "id": "3553cc1a",
   "metadata": {},
   "source": [
    "After OneHotEncoding the data looks like this"
   ]
  },
  {
   "cell_type": "code",
   "execution_count": 84,
   "id": "42e712c2",
   "metadata": {
    "ExecuteTime": {
     "end_time": "2021-09-05T12:03:33.688894Z",
     "start_time": "2021-09-05T12:03:33.663888Z"
    }
   },
   "outputs": [
    {
     "data": {
      "text/html": [
       "<div>\n",
       "<style scoped>\n",
       "    .dataframe tbody tr th:only-of-type {\n",
       "        vertical-align: middle;\n",
       "    }\n",
       "\n",
       "    .dataframe tbody tr th {\n",
       "        vertical-align: top;\n",
       "    }\n",
       "\n",
       "    .dataframe thead th {\n",
       "        text-align: right;\n",
       "    }\n",
       "</style>\n",
       "<table border=\"1\" class=\"dataframe\">\n",
       "  <thead>\n",
       "    <tr style=\"text-align: right;\">\n",
       "      <th></th>\n",
       "      <th>age</th>\n",
       "      <th>indrel</th>\n",
       "      <th>ind_actividad_cliente</th>\n",
       "      <th>renta</th>\n",
       "      <th>ind_empleado_A</th>\n",
       "      <th>ind_empleado_B</th>\n",
       "      <th>ind_empleado_F</th>\n",
       "      <th>ind_empleado_N</th>\n",
       "      <th>ind_empleado_S</th>\n",
       "      <th>pais_residencia_AD</th>\n",
       "      <th>pais_residencia_AE</th>\n",
       "      <th>pais_residencia_AL</th>\n",
       "      <th>pais_residencia_AO</th>\n",
       "      <th>pais_residencia_AR</th>\n",
       "      <th>pais_residencia_AT</th>\n",
       "      <th>pais_residencia_AU</th>\n",
       "      <th>pais_residencia_BA</th>\n",
       "      <th>pais_residencia_BE</th>\n",
       "      <th>pais_residencia_BG</th>\n",
       "      <th>pais_residencia_BM</th>\n",
       "      <th>pais_residencia_BO</th>\n",
       "      <th>pais_residencia_BR</th>\n",
       "      <th>pais_residencia_BY</th>\n",
       "      <th>pais_residencia_BZ</th>\n",
       "      <th>pais_residencia_CA</th>\n",
       "      <th>pais_residencia_CD</th>\n",
       "      <th>pais_residencia_CF</th>\n",
       "      <th>pais_residencia_CG</th>\n",
       "      <th>pais_residencia_CH</th>\n",
       "      <th>pais_residencia_CI</th>\n",
       "      <th>pais_residencia_CL</th>\n",
       "      <th>pais_residencia_CM</th>\n",
       "      <th>pais_residencia_CN</th>\n",
       "      <th>pais_residencia_CO</th>\n",
       "      <th>pais_residencia_CR</th>\n",
       "      <th>pais_residencia_CU</th>\n",
       "      <th>pais_residencia_CZ</th>\n",
       "      <th>pais_residencia_DE</th>\n",
       "      <th>pais_residencia_DJ</th>\n",
       "      <th>pais_residencia_DK</th>\n",
       "      <th>pais_residencia_DO</th>\n",
       "      <th>pais_residencia_DZ</th>\n",
       "      <th>pais_residencia_EC</th>\n",
       "      <th>pais_residencia_EE</th>\n",
       "      <th>pais_residencia_EG</th>\n",
       "      <th>...</th>\n",
       "      <th>nomprov_BIZKAIA</th>\n",
       "      <th>nomprov_BURGOS</th>\n",
       "      <th>nomprov_CACERES</th>\n",
       "      <th>nomprov_CADIZ</th>\n",
       "      <th>nomprov_CANTABRIA</th>\n",
       "      <th>nomprov_CASTELLON</th>\n",
       "      <th>nomprov_CEUTA</th>\n",
       "      <th>nomprov_CIUDAD REAL</th>\n",
       "      <th>nomprov_CORDOBA</th>\n",
       "      <th>nomprov_CORUÑA, A</th>\n",
       "      <th>nomprov_CUENCA</th>\n",
       "      <th>nomprov_GIPUZKOA</th>\n",
       "      <th>nomprov_GIRONA</th>\n",
       "      <th>nomprov_GRANADA</th>\n",
       "      <th>nomprov_GUADALAJARA</th>\n",
       "      <th>nomprov_HUELVA</th>\n",
       "      <th>nomprov_HUESCA</th>\n",
       "      <th>nomprov_JAEN</th>\n",
       "      <th>nomprov_LEON</th>\n",
       "      <th>nomprov_LERIDA</th>\n",
       "      <th>nomprov_LUGO</th>\n",
       "      <th>nomprov_MADRID</th>\n",
       "      <th>nomprov_MALAGA</th>\n",
       "      <th>nomprov_MELILLA</th>\n",
       "      <th>nomprov_MURCIA</th>\n",
       "      <th>nomprov_NAVARRA</th>\n",
       "      <th>nomprov_OURENSE</th>\n",
       "      <th>nomprov_PALENCIA</th>\n",
       "      <th>nomprov_PALMAS, LAS</th>\n",
       "      <th>nomprov_PONTEVEDRA</th>\n",
       "      <th>nomprov_RIOJA, LA</th>\n",
       "      <th>nomprov_SALAMANCA</th>\n",
       "      <th>nomprov_SANTA CRUZ DE TENERIFE</th>\n",
       "      <th>nomprov_SEGOVIA</th>\n",
       "      <th>nomprov_SEVILLA</th>\n",
       "      <th>nomprov_SORIA</th>\n",
       "      <th>nomprov_TARRAGONA</th>\n",
       "      <th>nomprov_TERUEL</th>\n",
       "      <th>nomprov_TOLEDO</th>\n",
       "      <th>nomprov_UNKNOWN</th>\n",
       "      <th>nomprov_VALENCIA</th>\n",
       "      <th>nomprov_VALLADOLID</th>\n",
       "      <th>nomprov_ZAMORA</th>\n",
       "      <th>nomprov_ZARAGOZA</th>\n",
       "      <th>segmento</th>\n",
       "    </tr>\n",
       "  </thead>\n",
       "  <tbody>\n",
       "    <tr>\n",
       "      <th>0</th>\n",
       "      <td>35.0</td>\n",
       "      <td>1.0</td>\n",
       "      <td>1.0</td>\n",
       "      <td>94961.91</td>\n",
       "      <td>0</td>\n",
       "      <td>0</td>\n",
       "      <td>0</td>\n",
       "      <td>1</td>\n",
       "      <td>0</td>\n",
       "      <td>0</td>\n",
       "      <td>0</td>\n",
       "      <td>0</td>\n",
       "      <td>0</td>\n",
       "      <td>0</td>\n",
       "      <td>0</td>\n",
       "      <td>0</td>\n",
       "      <td>0</td>\n",
       "      <td>0</td>\n",
       "      <td>0</td>\n",
       "      <td>0</td>\n",
       "      <td>0</td>\n",
       "      <td>0</td>\n",
       "      <td>0</td>\n",
       "      <td>0</td>\n",
       "      <td>0</td>\n",
       "      <td>0</td>\n",
       "      <td>0</td>\n",
       "      <td>0</td>\n",
       "      <td>0</td>\n",
       "      <td>0</td>\n",
       "      <td>0</td>\n",
       "      <td>0</td>\n",
       "      <td>0</td>\n",
       "      <td>0</td>\n",
       "      <td>0</td>\n",
       "      <td>0</td>\n",
       "      <td>0</td>\n",
       "      <td>0</td>\n",
       "      <td>0</td>\n",
       "      <td>0</td>\n",
       "      <td>0</td>\n",
       "      <td>0</td>\n",
       "      <td>0</td>\n",
       "      <td>0</td>\n",
       "      <td>0</td>\n",
       "      <td>...</td>\n",
       "      <td>0</td>\n",
       "      <td>0</td>\n",
       "      <td>0</td>\n",
       "      <td>0</td>\n",
       "      <td>0</td>\n",
       "      <td>0</td>\n",
       "      <td>0</td>\n",
       "      <td>0</td>\n",
       "      <td>0</td>\n",
       "      <td>0</td>\n",
       "      <td>0</td>\n",
       "      <td>0</td>\n",
       "      <td>0</td>\n",
       "      <td>0</td>\n",
       "      <td>0</td>\n",
       "      <td>0</td>\n",
       "      <td>0</td>\n",
       "      <td>0</td>\n",
       "      <td>0</td>\n",
       "      <td>0</td>\n",
       "      <td>0</td>\n",
       "      <td>0</td>\n",
       "      <td>1</td>\n",
       "      <td>0</td>\n",
       "      <td>0</td>\n",
       "      <td>0</td>\n",
       "      <td>0</td>\n",
       "      <td>0</td>\n",
       "      <td>0</td>\n",
       "      <td>0</td>\n",
       "      <td>0</td>\n",
       "      <td>0</td>\n",
       "      <td>0</td>\n",
       "      <td>0</td>\n",
       "      <td>0</td>\n",
       "      <td>0</td>\n",
       "      <td>0</td>\n",
       "      <td>0</td>\n",
       "      <td>0</td>\n",
       "      <td>0</td>\n",
       "      <td>0</td>\n",
       "      <td>0</td>\n",
       "      <td>0</td>\n",
       "      <td>0</td>\n",
       "      <td>02 - PARTICULARES</td>\n",
       "    </tr>\n",
       "    <tr>\n",
       "      <th>1</th>\n",
       "      <td>32.0</td>\n",
       "      <td>1.0</td>\n",
       "      <td>1.0</td>\n",
       "      <td>94961.91</td>\n",
       "      <td>0</td>\n",
       "      <td>0</td>\n",
       "      <td>0</td>\n",
       "      <td>1</td>\n",
       "      <td>0</td>\n",
       "      <td>0</td>\n",
       "      <td>0</td>\n",
       "      <td>0</td>\n",
       "      <td>0</td>\n",
       "      <td>0</td>\n",
       "      <td>0</td>\n",
       "      <td>0</td>\n",
       "      <td>0</td>\n",
       "      <td>0</td>\n",
       "      <td>0</td>\n",
       "      <td>0</td>\n",
       "      <td>0</td>\n",
       "      <td>0</td>\n",
       "      <td>0</td>\n",
       "      <td>0</td>\n",
       "      <td>0</td>\n",
       "      <td>0</td>\n",
       "      <td>0</td>\n",
       "      <td>0</td>\n",
       "      <td>0</td>\n",
       "      <td>0</td>\n",
       "      <td>0</td>\n",
       "      <td>0</td>\n",
       "      <td>0</td>\n",
       "      <td>0</td>\n",
       "      <td>0</td>\n",
       "      <td>0</td>\n",
       "      <td>0</td>\n",
       "      <td>0</td>\n",
       "      <td>0</td>\n",
       "      <td>0</td>\n",
       "      <td>0</td>\n",
       "      <td>0</td>\n",
       "      <td>0</td>\n",
       "      <td>0</td>\n",
       "      <td>0</td>\n",
       "      <td>...</td>\n",
       "      <td>0</td>\n",
       "      <td>0</td>\n",
       "      <td>0</td>\n",
       "      <td>0</td>\n",
       "      <td>0</td>\n",
       "      <td>0</td>\n",
       "      <td>0</td>\n",
       "      <td>0</td>\n",
       "      <td>0</td>\n",
       "      <td>0</td>\n",
       "      <td>0</td>\n",
       "      <td>0</td>\n",
       "      <td>0</td>\n",
       "      <td>0</td>\n",
       "      <td>0</td>\n",
       "      <td>0</td>\n",
       "      <td>0</td>\n",
       "      <td>0</td>\n",
       "      <td>0</td>\n",
       "      <td>0</td>\n",
       "      <td>0</td>\n",
       "      <td>0</td>\n",
       "      <td>1</td>\n",
       "      <td>0</td>\n",
       "      <td>0</td>\n",
       "      <td>0</td>\n",
       "      <td>0</td>\n",
       "      <td>0</td>\n",
       "      <td>0</td>\n",
       "      <td>0</td>\n",
       "      <td>0</td>\n",
       "      <td>0</td>\n",
       "      <td>0</td>\n",
       "      <td>0</td>\n",
       "      <td>0</td>\n",
       "      <td>0</td>\n",
       "      <td>0</td>\n",
       "      <td>0</td>\n",
       "      <td>0</td>\n",
       "      <td>0</td>\n",
       "      <td>0</td>\n",
       "      <td>0</td>\n",
       "      <td>0</td>\n",
       "      <td>0</td>\n",
       "      <td>02 - PARTICULARES</td>\n",
       "    </tr>\n",
       "    <tr>\n",
       "      <th>2</th>\n",
       "      <td>58.0</td>\n",
       "      <td>1.0</td>\n",
       "      <td>0.0</td>\n",
       "      <td>94961.91</td>\n",
       "      <td>0</td>\n",
       "      <td>0</td>\n",
       "      <td>0</td>\n",
       "      <td>1</td>\n",
       "      <td>0</td>\n",
       "      <td>0</td>\n",
       "      <td>0</td>\n",
       "      <td>0</td>\n",
       "      <td>0</td>\n",
       "      <td>0</td>\n",
       "      <td>0</td>\n",
       "      <td>0</td>\n",
       "      <td>0</td>\n",
       "      <td>0</td>\n",
       "      <td>0</td>\n",
       "      <td>0</td>\n",
       "      <td>0</td>\n",
       "      <td>0</td>\n",
       "      <td>0</td>\n",
       "      <td>0</td>\n",
       "      <td>0</td>\n",
       "      <td>0</td>\n",
       "      <td>0</td>\n",
       "      <td>0</td>\n",
       "      <td>0</td>\n",
       "      <td>0</td>\n",
       "      <td>0</td>\n",
       "      <td>0</td>\n",
       "      <td>0</td>\n",
       "      <td>0</td>\n",
       "      <td>0</td>\n",
       "      <td>0</td>\n",
       "      <td>0</td>\n",
       "      <td>0</td>\n",
       "      <td>0</td>\n",
       "      <td>0</td>\n",
       "      <td>0</td>\n",
       "      <td>0</td>\n",
       "      <td>0</td>\n",
       "      <td>0</td>\n",
       "      <td>0</td>\n",
       "      <td>...</td>\n",
       "      <td>0</td>\n",
       "      <td>0</td>\n",
       "      <td>0</td>\n",
       "      <td>0</td>\n",
       "      <td>0</td>\n",
       "      <td>0</td>\n",
       "      <td>0</td>\n",
       "      <td>0</td>\n",
       "      <td>0</td>\n",
       "      <td>0</td>\n",
       "      <td>0</td>\n",
       "      <td>0</td>\n",
       "      <td>0</td>\n",
       "      <td>0</td>\n",
       "      <td>0</td>\n",
       "      <td>0</td>\n",
       "      <td>0</td>\n",
       "      <td>0</td>\n",
       "      <td>0</td>\n",
       "      <td>0</td>\n",
       "      <td>0</td>\n",
       "      <td>0</td>\n",
       "      <td>1</td>\n",
       "      <td>0</td>\n",
       "      <td>0</td>\n",
       "      <td>0</td>\n",
       "      <td>0</td>\n",
       "      <td>0</td>\n",
       "      <td>0</td>\n",
       "      <td>0</td>\n",
       "      <td>0</td>\n",
       "      <td>0</td>\n",
       "      <td>0</td>\n",
       "      <td>0</td>\n",
       "      <td>0</td>\n",
       "      <td>0</td>\n",
       "      <td>0</td>\n",
       "      <td>0</td>\n",
       "      <td>0</td>\n",
       "      <td>0</td>\n",
       "      <td>0</td>\n",
       "      <td>0</td>\n",
       "      <td>0</td>\n",
       "      <td>0</td>\n",
       "      <td>02 - PARTICULARES</td>\n",
       "    </tr>\n",
       "    <tr>\n",
       "      <th>3</th>\n",
       "      <td>24.0</td>\n",
       "      <td>1.0</td>\n",
       "      <td>0.0</td>\n",
       "      <td>94961.91</td>\n",
       "      <td>0</td>\n",
       "      <td>0</td>\n",
       "      <td>0</td>\n",
       "      <td>1</td>\n",
       "      <td>0</td>\n",
       "      <td>0</td>\n",
       "      <td>0</td>\n",
       "      <td>0</td>\n",
       "      <td>0</td>\n",
       "      <td>0</td>\n",
       "      <td>0</td>\n",
       "      <td>0</td>\n",
       "      <td>0</td>\n",
       "      <td>0</td>\n",
       "      <td>0</td>\n",
       "      <td>0</td>\n",
       "      <td>0</td>\n",
       "      <td>0</td>\n",
       "      <td>0</td>\n",
       "      <td>0</td>\n",
       "      <td>0</td>\n",
       "      <td>0</td>\n",
       "      <td>0</td>\n",
       "      <td>0</td>\n",
       "      <td>0</td>\n",
       "      <td>0</td>\n",
       "      <td>0</td>\n",
       "      <td>0</td>\n",
       "      <td>0</td>\n",
       "      <td>0</td>\n",
       "      <td>0</td>\n",
       "      <td>0</td>\n",
       "      <td>0</td>\n",
       "      <td>0</td>\n",
       "      <td>0</td>\n",
       "      <td>0</td>\n",
       "      <td>0</td>\n",
       "      <td>0</td>\n",
       "      <td>0</td>\n",
       "      <td>0</td>\n",
       "      <td>0</td>\n",
       "      <td>...</td>\n",
       "      <td>0</td>\n",
       "      <td>0</td>\n",
       "      <td>0</td>\n",
       "      <td>0</td>\n",
       "      <td>0</td>\n",
       "      <td>0</td>\n",
       "      <td>0</td>\n",
       "      <td>0</td>\n",
       "      <td>0</td>\n",
       "      <td>0</td>\n",
       "      <td>0</td>\n",
       "      <td>0</td>\n",
       "      <td>0</td>\n",
       "      <td>0</td>\n",
       "      <td>0</td>\n",
       "      <td>0</td>\n",
       "      <td>0</td>\n",
       "      <td>0</td>\n",
       "      <td>0</td>\n",
       "      <td>0</td>\n",
       "      <td>0</td>\n",
       "      <td>0</td>\n",
       "      <td>1</td>\n",
       "      <td>0</td>\n",
       "      <td>0</td>\n",
       "      <td>0</td>\n",
       "      <td>0</td>\n",
       "      <td>0</td>\n",
       "      <td>0</td>\n",
       "      <td>0</td>\n",
       "      <td>0</td>\n",
       "      <td>0</td>\n",
       "      <td>0</td>\n",
       "      <td>0</td>\n",
       "      <td>0</td>\n",
       "      <td>0</td>\n",
       "      <td>0</td>\n",
       "      <td>0</td>\n",
       "      <td>0</td>\n",
       "      <td>0</td>\n",
       "      <td>0</td>\n",
       "      <td>0</td>\n",
       "      <td>0</td>\n",
       "      <td>0</td>\n",
       "      <td>03 - UNIVERSITARIO</td>\n",
       "    </tr>\n",
       "    <tr>\n",
       "      <th>4</th>\n",
       "      <td>22.0</td>\n",
       "      <td>1.0</td>\n",
       "      <td>0.0</td>\n",
       "      <td>94961.91</td>\n",
       "      <td>0</td>\n",
       "      <td>0</td>\n",
       "      <td>0</td>\n",
       "      <td>1</td>\n",
       "      <td>0</td>\n",
       "      <td>0</td>\n",
       "      <td>0</td>\n",
       "      <td>0</td>\n",
       "      <td>0</td>\n",
       "      <td>0</td>\n",
       "      <td>0</td>\n",
       "      <td>0</td>\n",
       "      <td>0</td>\n",
       "      <td>0</td>\n",
       "      <td>0</td>\n",
       "      <td>0</td>\n",
       "      <td>0</td>\n",
       "      <td>0</td>\n",
       "      <td>0</td>\n",
       "      <td>0</td>\n",
       "      <td>0</td>\n",
       "      <td>0</td>\n",
       "      <td>0</td>\n",
       "      <td>0</td>\n",
       "      <td>0</td>\n",
       "      <td>0</td>\n",
       "      <td>0</td>\n",
       "      <td>0</td>\n",
       "      <td>0</td>\n",
       "      <td>0</td>\n",
       "      <td>0</td>\n",
       "      <td>0</td>\n",
       "      <td>0</td>\n",
       "      <td>0</td>\n",
       "      <td>0</td>\n",
       "      <td>0</td>\n",
       "      <td>0</td>\n",
       "      <td>0</td>\n",
       "      <td>0</td>\n",
       "      <td>0</td>\n",
       "      <td>0</td>\n",
       "      <td>...</td>\n",
       "      <td>0</td>\n",
       "      <td>0</td>\n",
       "      <td>0</td>\n",
       "      <td>0</td>\n",
       "      <td>0</td>\n",
       "      <td>0</td>\n",
       "      <td>0</td>\n",
       "      <td>0</td>\n",
       "      <td>0</td>\n",
       "      <td>0</td>\n",
       "      <td>0</td>\n",
       "      <td>0</td>\n",
       "      <td>0</td>\n",
       "      <td>0</td>\n",
       "      <td>0</td>\n",
       "      <td>0</td>\n",
       "      <td>0</td>\n",
       "      <td>0</td>\n",
       "      <td>0</td>\n",
       "      <td>0</td>\n",
       "      <td>0</td>\n",
       "      <td>0</td>\n",
       "      <td>1</td>\n",
       "      <td>0</td>\n",
       "      <td>0</td>\n",
       "      <td>0</td>\n",
       "      <td>0</td>\n",
       "      <td>0</td>\n",
       "      <td>0</td>\n",
       "      <td>0</td>\n",
       "      <td>0</td>\n",
       "      <td>0</td>\n",
       "      <td>0</td>\n",
       "      <td>0</td>\n",
       "      <td>0</td>\n",
       "      <td>0</td>\n",
       "      <td>0</td>\n",
       "      <td>0</td>\n",
       "      <td>0</td>\n",
       "      <td>0</td>\n",
       "      <td>0</td>\n",
       "      <td>0</td>\n",
       "      <td>0</td>\n",
       "      <td>0</td>\n",
       "      <td>03 - UNIVERSITARIO</td>\n",
       "    </tr>\n",
       "  </tbody>\n",
       "</table>\n",
       "<p>5 rows × 452 columns</p>\n",
       "</div>"
      ],
      "text/plain": [
       "    age  indrel  ind_actividad_cliente     renta  ind_empleado_A  \\\n",
       "0  35.0     1.0                    1.0  94961.91               0   \n",
       "1  32.0     1.0                    1.0  94961.91               0   \n",
       "2  58.0     1.0                    0.0  94961.91               0   \n",
       "3  24.0     1.0                    0.0  94961.91               0   \n",
       "4  22.0     1.0                    0.0  94961.91               0   \n",
       "\n",
       "   ind_empleado_B  ind_empleado_F  ind_empleado_N  ind_empleado_S  \\\n",
       "0               0               0               1               0   \n",
       "1               0               0               1               0   \n",
       "2               0               0               1               0   \n",
       "3               0               0               1               0   \n",
       "4               0               0               1               0   \n",
       "\n",
       "   pais_residencia_AD  pais_residencia_AE  pais_residencia_AL  \\\n",
       "0                   0                   0                   0   \n",
       "1                   0                   0                   0   \n",
       "2                   0                   0                   0   \n",
       "3                   0                   0                   0   \n",
       "4                   0                   0                   0   \n",
       "\n",
       "   pais_residencia_AO  pais_residencia_AR  pais_residencia_AT  \\\n",
       "0                   0                   0                   0   \n",
       "1                   0                   0                   0   \n",
       "2                   0                   0                   0   \n",
       "3                   0                   0                   0   \n",
       "4                   0                   0                   0   \n",
       "\n",
       "   pais_residencia_AU  pais_residencia_BA  pais_residencia_BE  \\\n",
       "0                   0                   0                   0   \n",
       "1                   0                   0                   0   \n",
       "2                   0                   0                   0   \n",
       "3                   0                   0                   0   \n",
       "4                   0                   0                   0   \n",
       "\n",
       "   pais_residencia_BG  pais_residencia_BM  pais_residencia_BO  \\\n",
       "0                   0                   0                   0   \n",
       "1                   0                   0                   0   \n",
       "2                   0                   0                   0   \n",
       "3                   0                   0                   0   \n",
       "4                   0                   0                   0   \n",
       "\n",
       "   pais_residencia_BR  pais_residencia_BY  pais_residencia_BZ  \\\n",
       "0                   0                   0                   0   \n",
       "1                   0                   0                   0   \n",
       "2                   0                   0                   0   \n",
       "3                   0                   0                   0   \n",
       "4                   0                   0                   0   \n",
       "\n",
       "   pais_residencia_CA  pais_residencia_CD  pais_residencia_CF  \\\n",
       "0                   0                   0                   0   \n",
       "1                   0                   0                   0   \n",
       "2                   0                   0                   0   \n",
       "3                   0                   0                   0   \n",
       "4                   0                   0                   0   \n",
       "\n",
       "   pais_residencia_CG  pais_residencia_CH  pais_residencia_CI  \\\n",
       "0                   0                   0                   0   \n",
       "1                   0                   0                   0   \n",
       "2                   0                   0                   0   \n",
       "3                   0                   0                   0   \n",
       "4                   0                   0                   0   \n",
       "\n",
       "   pais_residencia_CL  pais_residencia_CM  pais_residencia_CN  \\\n",
       "0                   0                   0                   0   \n",
       "1                   0                   0                   0   \n",
       "2                   0                   0                   0   \n",
       "3                   0                   0                   0   \n",
       "4                   0                   0                   0   \n",
       "\n",
       "   pais_residencia_CO  pais_residencia_CR  pais_residencia_CU  \\\n",
       "0                   0                   0                   0   \n",
       "1                   0                   0                   0   \n",
       "2                   0                   0                   0   \n",
       "3                   0                   0                   0   \n",
       "4                   0                   0                   0   \n",
       "\n",
       "   pais_residencia_CZ  pais_residencia_DE  pais_residencia_DJ  \\\n",
       "0                   0                   0                   0   \n",
       "1                   0                   0                   0   \n",
       "2                   0                   0                   0   \n",
       "3                   0                   0                   0   \n",
       "4                   0                   0                   0   \n",
       "\n",
       "   pais_residencia_DK  pais_residencia_DO  pais_residencia_DZ  \\\n",
       "0                   0                   0                   0   \n",
       "1                   0                   0                   0   \n",
       "2                   0                   0                   0   \n",
       "3                   0                   0                   0   \n",
       "4                   0                   0                   0   \n",
       "\n",
       "   pais_residencia_EC  pais_residencia_EE  pais_residencia_EG  ...  \\\n",
       "0                   0                   0                   0  ...   \n",
       "1                   0                   0                   0  ...   \n",
       "2                   0                   0                   0  ...   \n",
       "3                   0                   0                   0  ...   \n",
       "4                   0                   0                   0  ...   \n",
       "\n",
       "   nomprov_BIZKAIA  nomprov_BURGOS  nomprov_CACERES  nomprov_CADIZ  \\\n",
       "0                0               0                0              0   \n",
       "1                0               0                0              0   \n",
       "2                0               0                0              0   \n",
       "3                0               0                0              0   \n",
       "4                0               0                0              0   \n",
       "\n",
       "   nomprov_CANTABRIA  nomprov_CASTELLON  nomprov_CEUTA  nomprov_CIUDAD REAL  \\\n",
       "0                  0                  0              0                    0   \n",
       "1                  0                  0              0                    0   \n",
       "2                  0                  0              0                    0   \n",
       "3                  0                  0              0                    0   \n",
       "4                  0                  0              0                    0   \n",
       "\n",
       "   nomprov_CORDOBA  nomprov_CORUÑA, A  nomprov_CUENCA  nomprov_GIPUZKOA  \\\n",
       "0                0                  0               0                 0   \n",
       "1                0                  0               0                 0   \n",
       "2                0                  0               0                 0   \n",
       "3                0                  0               0                 0   \n",
       "4                0                  0               0                 0   \n",
       "\n",
       "   nomprov_GIRONA  nomprov_GRANADA  nomprov_GUADALAJARA  nomprov_HUELVA  \\\n",
       "0               0                0                    0               0   \n",
       "1               0                0                    0               0   \n",
       "2               0                0                    0               0   \n",
       "3               0                0                    0               0   \n",
       "4               0                0                    0               0   \n",
       "\n",
       "   nomprov_HUESCA  nomprov_JAEN  nomprov_LEON  nomprov_LERIDA  nomprov_LUGO  \\\n",
       "0               0             0             0               0             0   \n",
       "1               0             0             0               0             0   \n",
       "2               0             0             0               0             0   \n",
       "3               0             0             0               0             0   \n",
       "4               0             0             0               0             0   \n",
       "\n",
       "   nomprov_MADRID  nomprov_MALAGA  nomprov_MELILLA  nomprov_MURCIA  \\\n",
       "0               0               1                0               0   \n",
       "1               0               1                0               0   \n",
       "2               0               1                0               0   \n",
       "3               0               1                0               0   \n",
       "4               0               1                0               0   \n",
       "\n",
       "   nomprov_NAVARRA  nomprov_OURENSE  nomprov_PALENCIA  nomprov_PALMAS, LAS  \\\n",
       "0                0                0                 0                    0   \n",
       "1                0                0                 0                    0   \n",
       "2                0                0                 0                    0   \n",
       "3                0                0                 0                    0   \n",
       "4                0                0                 0                    0   \n",
       "\n",
       "   nomprov_PONTEVEDRA  nomprov_RIOJA, LA  nomprov_SALAMANCA  \\\n",
       "0                   0                  0                  0   \n",
       "1                   0                  0                  0   \n",
       "2                   0                  0                  0   \n",
       "3                   0                  0                  0   \n",
       "4                   0                  0                  0   \n",
       "\n",
       "   nomprov_SANTA CRUZ DE TENERIFE  nomprov_SEGOVIA  nomprov_SEVILLA  \\\n",
       "0                               0                0                0   \n",
       "1                               0                0                0   \n",
       "2                               0                0                0   \n",
       "3                               0                0                0   \n",
       "4                               0                0                0   \n",
       "\n",
       "   nomprov_SORIA  nomprov_TARRAGONA  nomprov_TERUEL  nomprov_TOLEDO  \\\n",
       "0              0                  0               0               0   \n",
       "1              0                  0               0               0   \n",
       "2              0                  0               0               0   \n",
       "3              0                  0               0               0   \n",
       "4              0                  0               0               0   \n",
       "\n",
       "   nomprov_UNKNOWN  nomprov_VALENCIA  nomprov_VALLADOLID  nomprov_ZAMORA  \\\n",
       "0                0                 0                   0               0   \n",
       "1                0                 0                   0               0   \n",
       "2                0                 0                   0               0   \n",
       "3                0                 0                   0               0   \n",
       "4                0                 0                   0               0   \n",
       "\n",
       "   nomprov_ZARAGOZA            segmento  \n",
       "0                 0   02 - PARTICULARES  \n",
       "1                 0   02 - PARTICULARES  \n",
       "2                 0   02 - PARTICULARES  \n",
       "3                 0  03 - UNIVERSITARIO  \n",
       "4                 0  03 - UNIVERSITARIO  \n",
       "\n",
       "[5 rows x 452 columns]"
      ]
     },
     "execution_count": 84,
     "metadata": {},
     "output_type": "execute_result"
    }
   ],
   "source": [
    "df_dummies.head()"
   ]
  },
  {
   "cell_type": "markdown",
   "id": "99cac3e6",
   "metadata": {},
   "source": [
    "Now let's create train and test data for our classification model. <br>\n",
    "We'll use a random 500k examples to train our DecisionTreeClassifier. <br>\n",
    "Then we'll test it using cross validation to check if its prediction accuracy is high. Anything above 70-80% will make us confident that the missing values would be filled in accurately."
   ]
  },
  {
   "cell_type": "code",
   "execution_count": 85,
   "id": "9dc37107",
   "metadata": {
    "ExecuteTime": {
     "end_time": "2021-09-05T12:23:47.366462Z",
     "start_time": "2021-09-05T12:23:19.651634Z"
    }
   },
   "outputs": [],
   "source": [
    "# create train and test data\n",
    "segm_train = df_dummies.loc[df_dummies[\"segmento\"].notnull(), :]\n",
    "segm_test = df_dummies.loc[df_dummies[\"segmento\"].isnull(), :]\n",
    "del df_dummies"
   ]
  },
  {
   "cell_type": "code",
   "execution_count": 86,
   "id": "41c9f4e2",
   "metadata": {
    "ExecuteTime": {
     "end_time": "2021-09-05T12:23:51.018319Z",
     "start_time": "2021-09-05T12:23:51.003812Z"
    }
   },
   "outputs": [
    {
     "data": {
      "text/plain": [
       "(160281, 452)"
      ]
     },
     "execution_count": 86,
     "metadata": {},
     "output_type": "execute_result"
    }
   ],
   "source": [
    "segm_test.shape"
   ]
  },
  {
   "cell_type": "code",
   "execution_count": 87,
   "id": "55b44068",
   "metadata": {
    "ExecuteTime": {
     "end_time": "2021-09-05T12:23:58.070719Z",
     "start_time": "2021-09-05T12:23:54.578124Z"
    }
   },
   "outputs": [],
   "source": [
    "# segm_train_sample = segm_train.loc[:500000]\n",
    "segm_train_sample = segm_train.sample(n=500000)"
   ]
  },
  {
   "cell_type": "code",
   "execution_count": 88,
   "id": "a1eb5827",
   "metadata": {
    "ExecuteTime": {
     "end_time": "2021-09-05T12:24:02.292802Z",
     "start_time": "2021-09-05T12:24:01.783182Z"
    }
   },
   "outputs": [],
   "source": [
    "segm_y_train = segm_train_sample[\"segmento\"]\n",
    "segm_X_train = segm_train_sample.drop(\"segmento\", axis=1)\n",
    "del segm_train"
   ]
  },
  {
   "cell_type": "code",
   "execution_count": 89,
   "id": "1ad59d51",
   "metadata": {
    "ExecuteTime": {
     "end_time": "2021-09-05T12:24:03.721345Z",
     "start_time": "2021-09-05T12:24:02.800103Z"
    }
   },
   "outputs": [],
   "source": [
    "from sklearn.model_selection import cross_val_score\n",
    "from sklearn.tree import DecisionTreeClassifier"
   ]
  },
  {
   "cell_type": "code",
   "execution_count": 90,
   "id": "1e3094c8",
   "metadata": {
    "ExecuteTime": {
     "end_time": "2021-09-05T12:24:04.229970Z",
     "start_time": "2021-09-05T12:24:04.215459Z"
    }
   },
   "outputs": [],
   "source": [
    "tree_clf = DecisionTreeClassifier(random_state=8)"
   ]
  },
  {
   "cell_type": "code",
   "execution_count": 91,
   "id": "e7b100e3",
   "metadata": {
    "ExecuteTime": {
     "end_time": "2021-09-05T12:24:04.723679Z",
     "start_time": "2021-09-05T12:24:04.708615Z"
    }
   },
   "outputs": [],
   "source": [
    "# del segm_X_train, segm_y_train"
   ]
  },
  {
   "cell_type": "code",
   "execution_count": 92,
   "id": "26bde5cd",
   "metadata": {
    "ExecuteTime": {
     "end_time": "2021-09-05T12:29:53.317292Z",
     "start_time": "2021-09-05T12:24:05.232067Z"
    }
   },
   "outputs": [
    {
     "data": {
      "text/plain": [
       "array([0.90142, 0.90026, 0.90143, 0.90098, 0.90181])"
      ]
     },
     "execution_count": 92,
     "metadata": {},
     "output_type": "execute_result"
    }
   ],
   "source": [
    "# yields around 90% accuracy on avg which is great\n",
    "cross_val_score(tree_clf, segm_X_train, segm_y_train, cv=5)"
   ]
  },
  {
   "cell_type": "code",
   "execution_count": 93,
   "id": "0a72fb58",
   "metadata": {
    "ExecuteTime": {
     "end_time": "2021-09-05T12:29:53.843765Z",
     "start_time": "2021-09-05T12:29:53.797233Z"
    }
   },
   "outputs": [],
   "source": [
    "segm_y_test = segm_test[\"segmento\"]\n",
    "segm_X_test = segm_test.drop(\"segmento\", axis=1)\n",
    "del segm_test"
   ]
  },
  {
   "cell_type": "code",
   "execution_count": 94,
   "id": "d8eb3ae5",
   "metadata": {
    "ExecuteTime": {
     "end_time": "2021-09-05T12:31:22.084302Z",
     "start_time": "2021-09-05T12:29:54.340683Z"
    }
   },
   "outputs": [],
   "source": [
    "tree_clf.fit(X=segm_X_train, y=segm_y_train)\n",
    "segm_predictions = tree_clf.predict(segm_X_test)"
   ]
  },
  {
   "cell_type": "code",
   "execution_count": 95,
   "id": "52edc25b",
   "metadata": {
    "ExecuteTime": {
     "end_time": "2021-09-05T12:31:22.611681Z",
     "start_time": "2021-09-05T12:31:22.596724Z"
    }
   },
   "outputs": [
    {
     "data": {
      "text/plain": [
       "array(['02 - PARTICULARES', '02 - PARTICULARES', '02 - PARTICULARES', ...,\n",
       "       '02 - PARTICULARES', '02 - PARTICULARES', '02 - PARTICULARES'],\n",
       "      dtype=object)"
      ]
     },
     "execution_count": 95,
     "metadata": {},
     "output_type": "execute_result"
    }
   ],
   "source": [
    "segm_predictions"
   ]
  },
  {
   "cell_type": "code",
   "execution_count": 96,
   "id": "1c3e03d9",
   "metadata": {
    "ExecuteTime": {
     "end_time": "2021-09-05T12:31:23.105631Z",
     "start_time": "2021-09-05T12:31:23.090563Z"
    }
   },
   "outputs": [
    {
     "data": {
      "text/plain": [
       "(160281,)"
      ]
     },
     "execution_count": 96,
     "metadata": {},
     "output_type": "execute_result"
    }
   ],
   "source": [
    "segm_predictions.shape"
   ]
  },
  {
   "cell_type": "code",
   "execution_count": 97,
   "id": "11448240",
   "metadata": {
    "ExecuteTime": {
     "end_time": "2021-09-05T12:31:23.614210Z",
     "start_time": "2021-09-05T12:31:23.599219Z"
    }
   },
   "outputs": [
    {
     "data": {
      "text/plain": [
       "(160281, 451)"
      ]
     },
     "execution_count": 97,
     "metadata": {},
     "output_type": "execute_result"
    }
   ],
   "source": [
    "segm_X_test.shape"
   ]
  },
  {
   "cell_type": "code",
   "execution_count": 98,
   "id": "e3b45659",
   "metadata": {
    "ExecuteTime": {
     "end_time": "2021-09-05T12:31:24.619109Z",
     "start_time": "2021-09-05T12:31:24.092156Z"
    }
   },
   "outputs": [],
   "source": [
    "# replace the empty rows of segmento with the predictions\n",
    "df.loc[df[\"segmento\"].isnull(), \"segmento\"] = segm_predictions"
   ]
  },
  {
   "cell_type": "markdown",
   "id": "003cf399",
   "metadata": {},
   "source": [
    "train another DecisionTreeClassifier to fill in the missing values for tiprel_1mes (include the updated \"segmento\" as an independent feature as well)"
   ]
  },
  {
   "cell_type": "code",
   "execution_count": 99,
   "id": "9346f6e0",
   "metadata": {
    "ExecuteTime": {
     "end_time": "2021-09-05T12:31:50.980893Z",
     "start_time": "2021-09-05T12:31:25.099500Z"
    }
   },
   "outputs": [],
   "source": [
    "ind_features = [\"ind_empleado\", \"pais_residencia\", \"age\", \"ind_nuevo\", \"antiguedad\",\n",
    "                \"indrel\", \"indrel_1mes\", \"indresi\", \"indext\", \"indfall\", \"nomprov\", \n",
    "                \"ind_actividad_cliente\", \"renta\", \"segmento\"]\n",
    "\n",
    "\n",
    "df_dummies = pd.get_dummies(data=df[ind_features])"
   ]
  },
  {
   "cell_type": "code",
   "execution_count": 100,
   "id": "e4646ea9",
   "metadata": {
    "ExecuteTime": {
     "end_time": "2021-09-05T12:31:56.170395Z",
     "start_time": "2021-09-05T12:31:54.511539Z"
    }
   },
   "outputs": [],
   "source": [
    "df_dummies = df_dummies.join(df[\"tiprel_1mes\"])"
   ]
  },
  {
   "cell_type": "code",
   "execution_count": 101,
   "id": "c08f6810",
   "metadata": {
    "ExecuteTime": {
     "end_time": "2021-09-05T12:32:22.801244Z",
     "start_time": "2021-09-05T12:32:00.164389Z"
    }
   },
   "outputs": [],
   "source": [
    "# create train and test data\n",
    "tiprel_train = df_dummies.loc[df_dummies[\"tiprel_1mes\"].notnull(), :]\n",
    "tiprel_test = df_dummies.loc[df_dummies[\"tiprel_1mes\"].isnull(), :]\n",
    "del df_dummies"
   ]
  },
  {
   "cell_type": "code",
   "execution_count": 102,
   "id": "d5012c6a",
   "metadata": {
    "ExecuteTime": {
     "end_time": "2021-09-05T12:32:26.764945Z",
     "start_time": "2021-09-05T12:32:26.749858Z"
    }
   },
   "outputs": [
    {
     "data": {
      "text/plain": [
       "(121253, 455)"
      ]
     },
     "execution_count": 102,
     "metadata": {},
     "output_type": "execute_result"
    }
   ],
   "source": [
    "tiprel_test.shape"
   ]
  },
  {
   "cell_type": "code",
   "execution_count": 103,
   "id": "637bbfca",
   "metadata": {
    "ExecuteTime": {
     "end_time": "2021-09-05T12:32:34.183956Z",
     "start_time": "2021-09-05T12:32:30.639386Z"
    }
   },
   "outputs": [],
   "source": [
    "# segm_train_sample = segm_train.loc[:500000]\n",
    "tiprel_train_sample = tiprel_train.sample(n=500000)"
   ]
  },
  {
   "cell_type": "code",
   "execution_count": 104,
   "id": "8eb993a2",
   "metadata": {
    "ExecuteTime": {
     "end_time": "2021-09-05T12:32:40.578008Z",
     "start_time": "2021-09-05T12:32:40.228704Z"
    }
   },
   "outputs": [],
   "source": [
    "tiprel_y_train = tiprel_train_sample[\"tiprel_1mes\"]\n",
    "tiprel_X_train = tiprel_train_sample.drop(\"tiprel_1mes\", axis=1)\n",
    "del tiprel_train"
   ]
  },
  {
   "cell_type": "code",
   "execution_count": 105,
   "id": "4fa4090e",
   "metadata": {
    "ExecuteTime": {
     "end_time": "2021-09-05T12:32:41.549363Z",
     "start_time": "2021-09-05T12:32:41.535621Z"
    }
   },
   "outputs": [],
   "source": [
    "from sklearn.model_selection import cross_val_score\n",
    "from sklearn.tree import DecisionTreeClassifier"
   ]
  },
  {
   "cell_type": "code",
   "execution_count": 106,
   "id": "190b54a0",
   "metadata": {
    "ExecuteTime": {
     "end_time": "2021-09-05T12:32:42.453666Z",
     "start_time": "2021-09-05T12:32:42.439385Z"
    }
   },
   "outputs": [],
   "source": [
    "tree_clf = DecisionTreeClassifier(random_state=8)"
   ]
  },
  {
   "cell_type": "code",
   "execution_count": 107,
   "id": "2f12e046",
   "metadata": {
    "ExecuteTime": {
     "end_time": "2021-09-05T12:32:43.356622Z",
     "start_time": "2021-09-05T12:32:43.341912Z"
    }
   },
   "outputs": [],
   "source": [
    "# del segm_X_train, segm_y_train"
   ]
  },
  {
   "cell_type": "code",
   "execution_count": 108,
   "id": "c1dfd7b3",
   "metadata": {
    "ExecuteTime": {
     "end_time": "2021-09-05T12:39:14.661468Z",
     "start_time": "2021-09-05T12:32:44.233861Z"
    }
   },
   "outputs": [
    {
     "data": {
      "text/plain": [
       "array([0.88251, 0.88108, 0.88355, 0.88395, 0.88109])"
      ]
     },
     "execution_count": 108,
     "metadata": {},
     "output_type": "execute_result"
    }
   ],
   "source": [
    "# yields around 88% accuracy on avg which is great\n",
    "cross_val_score(tree_clf, tiprel_X_train, tiprel_y_train, cv=5)"
   ]
  },
  {
   "cell_type": "code",
   "execution_count": 109,
   "id": "e142a466",
   "metadata": {
    "ExecuteTime": {
     "end_time": "2021-09-05T12:39:15.567509Z",
     "start_time": "2021-09-05T12:39:15.537991Z"
    }
   },
   "outputs": [],
   "source": [
    "tiprel_y_test = tiprel_test[\"tiprel_1mes\"]\n",
    "tiprel_X_test = tiprel_test.drop(\"tiprel_1mes\", axis=1)\n",
    "del tiprel_test"
   ]
  },
  {
   "cell_type": "code",
   "execution_count": 110,
   "id": "921a904d",
   "metadata": {
    "ExecuteTime": {
     "end_time": "2021-09-05T12:40:57.483185Z",
     "start_time": "2021-09-05T12:39:16.429845Z"
    }
   },
   "outputs": [],
   "source": [
    "tree_clf.fit(X=tiprel_X_train, y=tiprel_y_train)\n",
    "tiprel_predictions = tree_clf.predict(tiprel_X_test)"
   ]
  },
  {
   "cell_type": "code",
   "execution_count": 111,
   "id": "b6229d40",
   "metadata": {
    "ExecuteTime": {
     "end_time": "2021-09-05T12:40:58.356122Z",
     "start_time": "2021-09-05T12:40:58.341105Z"
    }
   },
   "outputs": [
    {
     "data": {
      "text/plain": [
       "array(['I', 'A', 'A', ..., 'A', 'A', 'A'], dtype=object)"
      ]
     },
     "execution_count": 111,
     "metadata": {},
     "output_type": "execute_result"
    }
   ],
   "source": [
    "tiprel_predictions"
   ]
  },
  {
   "cell_type": "code",
   "execution_count": 112,
   "id": "154a6b4e",
   "metadata": {
    "ExecuteTime": {
     "end_time": "2021-09-05T12:40:59.665456Z",
     "start_time": "2021-09-05T12:40:59.205348Z"
    }
   },
   "outputs": [],
   "source": [
    "df.loc[df[\"tiprel_1mes\"].isnull(), \"tiprel_1mes\"] = tiprel_predictions"
   ]
  },
  {
   "cell_type": "markdown",
   "id": "e1e61463",
   "metadata": {},
   "source": [
    "What's remained of the missing columns is **\"canal_entrada\"**. We will take the easy way out and fill it in with \"UNKNOWN\" value"
   ]
  },
  {
   "cell_type": "code",
   "execution_count": 113,
   "id": "457ee88c",
   "metadata": {
    "ExecuteTime": {
     "end_time": "2021-09-05T12:41:01.084815Z",
     "start_time": "2021-09-05T12:41:00.527663Z"
    }
   },
   "outputs": [],
   "source": [
    "df.loc[df[\"canal_entrada\"].isnull(), \"canal_entrada\"] = \"UNKNOWN\""
   ]
  },
  {
   "cell_type": "markdown",
   "id": "7ae34c07",
   "metadata": {},
   "source": [
    "Checking if there are columns with missing values left.."
   ]
  },
  {
   "cell_type": "code",
   "execution_count": 114,
   "id": "a31cc132",
   "metadata": {
    "ExecuteTime": {
     "end_time": "2021-09-05T12:41:06.728358Z",
     "start_time": "2021-09-05T12:41:01.989435Z"
    }
   },
   "outputs": [
    {
     "data": {
      "text/plain": [
       "fecha_dato               False\n",
       "ncodpers                 False\n",
       "ind_empleado             False\n",
       "pais_residencia          False\n",
       "sexo                     False\n",
       "age                      False\n",
       "fecha_alta               False\n",
       "ind_nuevo                False\n",
       "antiguedad               False\n",
       "indrel                   False\n",
       "indrel_1mes              False\n",
       "tiprel_1mes              False\n",
       "indresi                  False\n",
       "indext                   False\n",
       "canal_entrada            False\n",
       "indfall                  False\n",
       "nomprov                  False\n",
       "ind_actividad_cliente    False\n",
       "segmento                 False\n",
       "ind_ahor_fin_ult1        False\n",
       "ind_aval_fin_ult1        False\n",
       "ind_cco_fin_ult1         False\n",
       "ind_cder_fin_ult1        False\n",
       "ind_cno_fin_ult1         False\n",
       "ind_ctju_fin_ult1        False\n",
       "ind_ctma_fin_ult1        False\n",
       "ind_ctop_fin_ult1        False\n",
       "ind_ctpp_fin_ult1        False\n",
       "ind_deco_fin_ult1        False\n",
       "ind_deme_fin_ult1        False\n",
       "ind_dela_fin_ult1        False\n",
       "ind_ecue_fin_ult1        False\n",
       "ind_fond_fin_ult1        False\n",
       "ind_hip_fin_ult1         False\n",
       "ind_plan_fin_ult1        False\n",
       "ind_pres_fin_ult1        False\n",
       "ind_reca_fin_ult1        False\n",
       "ind_tjcr_fin_ult1        False\n",
       "ind_valo_fin_ult1        False\n",
       "ind_viv_fin_ult1         False\n",
       "ind_nomina_ult1          False\n",
       "ind_nom_pens_ult1        False\n",
       "ind_recibo_ult1          False\n",
       "month                    False\n",
       "renta                    False\n",
       "dtype: bool"
      ]
     },
     "execution_count": 114,
     "metadata": {},
     "output_type": "execute_result"
    }
   ],
   "source": [
    "df.isnull().any()"
   ]
  },
  {
   "cell_type": "markdown",
   "id": "595c8912",
   "metadata": {},
   "source": [
    "Voila! We have cleaned our data successfully!"
   ]
  },
  {
   "cell_type": "code",
   "execution_count": 115,
   "id": "cd2c4d1b",
   "metadata": {
    "ExecuteTime": {
     "end_time": "2021-09-05T12:41:07.631345Z",
     "start_time": "2021-09-05T12:41:07.601291Z"
    }
   },
   "outputs": [],
   "source": [
    "del segm_X_test, segm_X_train, segm_predictions, segm_train_sample, segm_y_test, segm_y_train\n",
    "del tiprel_predictions, tiprel_train_sample, tiprel_X_test, tiprel_X_train, tiprel_y_test, tiprel_y_train"
   ]
  },
  {
   "cell_type": "markdown",
   "id": "85f1f235",
   "metadata": {},
   "source": [
    "# Feature Engineering"
   ]
  },
  {
   "cell_type": "code",
   "execution_count": null,
   "id": "097ce455",
   "metadata": {},
   "outputs": [],
   "source": []
  },
  {
   "cell_type": "code",
   "execution_count": null,
   "id": "a3dfb9eb",
   "metadata": {},
   "outputs": [],
   "source": []
  },
  {
   "cell_type": "code",
   "execution_count": null,
   "id": "6daf92b9",
   "metadata": {},
   "outputs": [],
   "source": []
  },
  {
   "cell_type": "code",
   "execution_count": null,
   "id": "6a7b93e6",
   "metadata": {},
   "outputs": [],
   "source": []
  }
 ],
 "metadata": {
  "kernelspec": {
   "display_name": "Python [conda env:.conda-py39]",
   "language": "python",
   "name": "conda-env-.conda-py39-py"
  },
  "language_info": {
   "codemirror_mode": {
    "name": "ipython",
    "version": 3
   },
   "file_extension": ".py",
   "mimetype": "text/x-python",
   "name": "python",
   "nbconvert_exporter": "python",
   "pygments_lexer": "ipython3",
   "version": "3.9.6"
  },
  "toc": {
   "base_numbering": 1,
   "nav_menu": {},
   "number_sections": true,
   "sideBar": true,
   "skip_h1_title": false,
   "title_cell": "Table of Contents",
   "title_sidebar": "Contents",
   "toc_cell": false,
   "toc_position": {
    "height": "calc(100% - 180px)",
    "left": "10px",
    "top": "150px",
    "width": "228.6px"
   },
   "toc_section_display": true,
   "toc_window_display": true
  },
  "varInspector": {
   "cols": {
    "lenName": 16,
    "lenType": 16,
    "lenVar": 40
   },
   "kernels_config": {
    "python": {
     "delete_cmd_postfix": "",
     "delete_cmd_prefix": "del ",
     "library": "var_list.py",
     "varRefreshCmd": "print(var_dic_list())"
    },
    "r": {
     "delete_cmd_postfix": ") ",
     "delete_cmd_prefix": "rm(",
     "library": "var_list.r",
     "varRefreshCmd": "cat(var_dic_list()) "
    }
   },
   "position": {
    "height": "160.85px",
    "left": "1107.6px",
    "right": "20px",
    "top": "-29px",
    "width": "335.4px"
   },
   "types_to_exclude": [
    "module",
    "function",
    "builtin_function_or_method",
    "instance",
    "_Feature"
   ],
   "window_display": true
  }
 },
 "nbformat": 4,
 "nbformat_minor": 5
}
